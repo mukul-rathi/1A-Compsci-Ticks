{
 "cells": [
  {
   "cell_type": "markdown",
   "metadata": {},
   "source": [
    "# 2 Numerical computation\n",
    "* [**2.0 Preamble**](#preamble)\n",
    "* [**2.1 Vector calculations**](#vectors)\n",
    "* [**2.2 Vectorized thinking**](#vectorized): `for` considered harmful\n",
    "* [**2.3 Arrays**](#arrays)\n",
    "* [**2.4 Numerical optimization and fitting**](#opt)\n",
    "* [**2.5 Simulation**](#sim)\n",
    "* [**More exercises**](#exercises)\n",
    "\n",
    "Working with numbers is central to almost all scientific and engineering computing, from deep learning to image processing to climate simulation. We could use Python directly for numerical\n",
    "computation&mdash;but it's much faster to use Python just as 'glue', using it to write concise code and to quickly develop our thinking, and to rely on \n",
    "carefully optimized low-level libraries for the heavy lifting."
   ]
  },
  {
   "cell_type": "markdown",
   "metadata": {},
   "source": [
    "<div class=\"alert alert-warning\">\n",
    "**Goal of this notebook:**\n",
    "Learn your way around the two main Python libraries for numerical work, \n",
    "<a href=\"http://www.numpy.org/\">NumPy</a> \n",
    "and \n",
    "<a href=\"https://www.scipy.org/\">SciPy</a>,\n",
    "and learn how to produce basic plots with [matplotlib](https://matplotlib.org/).\n",
    "</div>"
   ]
  },
  {
   "cell_type": "markdown",
   "metadata": {},
   "source": [
    "There are some exercises in this section of notes. They are for you to get practice on: they are optional, and do not contribute to your final grade. You can check your answers to labelled exercises as described in [&sect;0.3](0.%20About%20this%20course.ipynb#grader) using `section='notes2'`."
   ]
  },
  {
   "cell_type": "markdown",
   "metadata": {},
   "source": [
    "## 2.0 Preamble<span id=\"preamble\"></span>\n",
    "\n",
    "At the top of almost every piece of scientific computing work, we'll import these standard modules. "
   ]
  },
  {
   "cell_type": "code",
   "execution_count": 1,
   "metadata": {
    "collapsed": true
   },
   "outputs": [],
   "source": [
    "# Import modules, and give them short aliases so we can write e.g. np.foo rather than numpy.foo\n",
    "import math, random\n",
    "import numpy as np\n",
    "import matplotlib.pyplot as plt\n",
    "import scipy\n",
    "import scipy.optimize\n",
    "# The next line is a piece of magic, to let plots appear in our Jupyter notebooks\n",
    "%matplotlib inline    "
   ]
  },
  {
   "cell_type": "markdown",
   "metadata": {},
   "source": [
    "## 2.1 Vector calculations<span id=\"vectors\"></span>\n",
    "\n",
    "In [&sect;1](1.%20Programming%20in%20Python.ipynb) we learnt about Python lists, which can store mixed data types e.g. integers mixed with strings and sublists and even functions. The flexibility comes at the price of performance. In scientific computing, it's better to use specialised classes for vectors, and to use functions that operate on entire vectors at once. This is called _vectorized thinking_, and it's a core skill for scientific computing. Once you get the hang of it, you will write code that is more concise and faster. Here are some simple examples."
   ]
  },
  {
   "cell_type": "code",
   "execution_count": 2,
   "metadata": {},
   "outputs": [
    {
     "data": {
      "text/plain": [
       "array([ 2.,  3.,  6.,  4.,  3.])"
      ]
     },
     "execution_count": 2,
     "metadata": {},
     "output_type": "execute_result"
    }
   ],
   "source": [
    "x = np.array([1,2,5,3,2])  # create a numpy vector out of a Python list\n",
    "y = np.ones(5)             # create a numpy vector [1,1,1,1,1]\n",
    "x + y                      # iterates over all elements of x and y for you"
   ]
  },
  {
   "cell_type": "markdown",
   "metadata": {},
   "source": [
    "All the elements of a vector have to be the same [type](https://docs.scipy.org/doc/numpy-1.13.0/user/basics.types.html). Use `x.dtype` to find this type,\n",
    "and [`x.astype`](https://docs.scipy.org/doc/numpy/reference/generated/numpy.ndarray.astype.html#numpy-ndarray-astype) to convert a vector from one type to another."
   ]
  },
  {
   "cell_type": "code",
   "execution_count": 3,
   "metadata": {},
   "outputs": [
    {
     "data": {
      "text/plain": [
       "(dtype('int64'), dtype('bool'), dtype('int64'))"
      ]
     },
     "execution_count": 3,
     "metadata": {},
     "output_type": "execute_result"
    }
   ],
   "source": [
    "x = np.arange(10)\n",
    "y = (x > 5)\n",
    "z = np.ones_like(x)\n",
    "(x.dtype, y.dtype, z.dtype)"
   ]
  },
  {
   "cell_type": "markdown",
   "metadata": {},
   "source": [
    "To be good at writing vectorized code, we need to know what sort of calculations we can do on vectors.\n",
    "Here are some [useful routines](https://docs.scipy.org/doc/numpy/reference/routines.html#routines):\n",
    "\n",
    "**Maths:**\n",
    "\n",
    "* Normal mathematical expressions work on vectors, and you can mix vectors and scalars, e.g. `x + y ** 2 + 5 >= z`\n",
    "* `np.sin`, `np.exp`, `np.floor`, ...\n",
    "* `x @ y` gives the dot product, `np.linalg.norm(x)` is the norm\n",
    "* `np.sum` and `np.prod`; `np.cumsum(x)` gives $[x_0, x_0+x_1, x_0+x_1+x_2, \\dots]$\n",
    "* `np.min` and `np.max` for the overall min and max; `np.minimum(x,y)` for $[\\min(x_0,y_0), \\min(x_1,y_1), \\dots]$\n",
    "* and other [maths](https://docs.scipy.org/doc/numpy/reference/routines.math.html#mathematical-functions) and [statistics](https://docs.scipy.org/doc/numpy/reference/routines.statistics.html) functions\n",
    "\n",
    "**Create vectors:**\n",
    "\n",
    "* `np.array([1,2,3])` creates a numpy vector from a Python list\n",
    "* `np.zeros(n)`, `np.ones(n)`, `numpy.full(n,fill_value)`\n",
    "* `numpy.ones_like(a)` creates a vector of the same shape as `a`\n",
    "* `np.arange` is like Python's `range`\n",
    "* `np.linspace(start,stop,n)` creates $n$ evenly-spaced points between `start` and `stop` inclusive, very useful for plotting\n",
    "* `np.random.random(n)`, `np.random.choice(a,n)`, and other [random number generators](https://docs.scipy.org/doc/numpy/reference/routines.random.html)\n",
    "* and other [array creation](https://docs.scipy.org/doc/numpy/reference/routines.array-creation.html#array-creation-routines) routines"
   ]
  },
  {
   "cell_type": "markdown",
   "metadata": {},
   "source": [
    "### More elaborate example\n",
    "Here's a more elaborate example: computing the [correlation coefficient](https://en.wikipedia.org/wiki/Pearson_correlation_coefficient) between two vectors $x$ and $y$,\n",
    "\n",
    "$$\n",
    "\\rho\n",
    "= \n",
    "\\frac{\\sum_i(x_i - \\bar{x})(y_i-\\bar{y})}\n",
    "{\\sqrt{\\sum_i(x_i-\\bar{x})^2)} \\sqrt{\\sum_i(y_i-\\bar{y})^2}}\n",
    "$$\n",
    "\n",
    "where $x$ and $y$ have the same length $N$, and \n",
    "\n",
    "$$\n",
    "\\bar{x}=\\frac{1}{N}\\sum_i x_i,\n",
    "\\quad\n",
    "\\bar{y}=\\frac{1}{N}\\sum_i y_i.\n",
    "$$\n",
    "\n",
    "Here are two pieces of code, one written in Python-style, one written in scientific computing style, to compute $\\rho$. The latter is roughly 15 times faster. (The [magic command](http://ipython.readthedocs.io/en/stable/interactive/magics.html#magic-time) `%%time` at the top of a cell makes the notebook print out the execution time.)"
   ]
  },
  {
   "cell_type": "code",
   "execution_count": 4,
   "metadata": {
    "collapsed": true
   },
   "outputs": [],
   "source": [
    "# Set up some parameters.\n",
    "# We'll use a random number seed so our code is reproducible. Python's hash function gives an integer,\n",
    "# suitable for use as a seed.\n",
    "N = 10000000\n",
    "rand_seed = 1618033988"
   ]
  },
  {
   "cell_type": "code",
   "execution_count": 5,
   "metadata": {},
   "outputs": [
    {
     "name": "stdout",
     "output_type": "stream",
     "text": [
      "0.707063527537949\n",
      "CPU times: user 7.22 s, sys: 665 ms, total: 7.88 s\n",
      "Wall time: 7.91 s\n"
     ]
    }
   ],
   "source": [
    "%%time\n",
    "# Python-style code\n",
    "\n",
    "random.seed(rand_seed)\n",
    "# Create two lists of random numbers, xs and ys, where each y depends on the corresponding x\n",
    "xs = [random.random() for i in range(N)]\n",
    "ys = [xs[i] + random.random() for i in range(N)]\n",
    "# Compute the various terms involved in the formula\n",
    "xbar = sum(xs) / N  # sum(list) is built into Python\n",
    "ybar = sum(ys) / N\n",
    "sxy = sum([(x-xbar)*(y-ybar) for x,y in zip(xs,ys)])  # this is how to iterate over a pair of lists\n",
    "sxx = sum([(x-xbar)**2 for x in xs])\n",
    "syy = sum([(y-ybar)**2 for y in ys])\n",
    "rho = sxy / math.sqrt(sxx) / math.sqrt(syy)\n",
    "print(rho)"
   ]
  },
  {
   "cell_type": "code",
   "execution_count": 6,
   "metadata": {},
   "outputs": [
    {
     "name": "stdout",
     "output_type": "stream",
     "text": [
      "0.707201664199\n",
      "CPU times: user 340 ms, sys: 182 ms, total: 522 ms\n",
      "Wall time: 522 ms\n"
     ]
    }
   ],
   "source": [
    "%%time\n",
    "# Vectorized code\n",
    "\n",
    "np.random.seed(rand_seed)\n",
    "# Create two random vectors x and y\n",
    "x = np.random.random(N)\n",
    "y = x + np.random.random(N)\n",
    "# Compute the terms in the formula. Note: @ means \"dot product\"\n",
    "xbar = np.sum(x) / N\n",
    "ybar = np.sum(y) / N\n",
    "rho = ((x-xbar) @ (y-ybar)) / math.sqrt(np.sum((x-xbar)**2)) / math.sqrt(np.sum((y-ybar)**2))\n",
    "print(rho)"
   ]
  },
  {
   "cell_type": "markdown",
   "metadata": {},
   "source": [
    "(Though if we really did know our way round numpy, we'd have used [`np.corrcoef`](https://docs.scipy.org/doc/numpy/reference/generated/numpy.corrcoef.html#numpy.corrcoef) rather than write our own code for $\\rho$!)"
   ]
  },
  {
   "cell_type": "markdown",
   "metadata": {},
   "source": [
    "<div class=\"alert alert-warning\">**Exercise (ex1).**\n",
    "Using Python-style code: let $x$ and $y$ be random numbers in the range $[-1,1]$, and let $d=\\sqrt{x^2+y^2}$. Repeat this a million times, and find the mean and standard deviation of your values for $d$.\n",
    "</div>"
   ]
  },
  {
   "cell_type": "code",
   "execution_count": 71,
   "metadata": {},
   "outputs": [
    {
     "name": "stdout",
     "output_type": "stream",
     "text": [
      "Waiting for you to log in .. done.\n",
      "Submit {'mean':..., 'sd':...}\n"
     ]
    }
   ],
   "source": [
    "!pip install ucamcl --upgrade\n",
    "import ucamcl\n",
    "GRADER = ucamcl.autograder('https://markmy.solutions', course='scicomp', section='notes2')\n",
    "# paste in whatever section is appropriate for the section of notes / assignment you're working on\n",
    "q = GRADER.fetch_question('ex1')\n",
    "print(q)\n",
    "\n",
    "\n"
   ]
  },
  {
   "cell_type": "code",
   "execution_count": 8,
   "metadata": {},
   "outputs": [
    {
     "name": "stdout",
     "output_type": "stream",
     "text": [
      "Correct!\n"
     ]
    },
    {
     "data": {
      "text/plain": [
       "(True, {'mean': 0.7652005053259094, 'sd': 0.2849320435884926})"
      ]
     },
     "execution_count": 8,
     "metadata": {},
     "output_type": "execute_result"
    }
   ],
   "source": [
    "import math\n",
    "N = 10000000\n",
    "# Python-style code\n",
    "\n",
    "random.seed(rand_seed)\n",
    "# Create two lists of random numbers, xs and ys, where each y depends on the corresponding x\n",
    "xs = [(2*random.random()-1) for i in range(N)]\n",
    "ys = [(2*random.random()-1) for i in range(N)]\n",
    "# Compute the various terms involved in the formula\n",
    "d = [math.sqrt(x**2+y**2) for (x,y) in zip(xs,ys)]\n",
    "mean = sum(d)/N\n",
    "std = math.sqrt(sum([i**2 for i in d])/N - mean**2)\n",
    "ans = {'mean': mean, 'sd': std}\n",
    "GRADER.submit_answer(q, ans)"
   ]
  },
  {
   "cell_type": "markdown",
   "metadata": {},
   "source": [
    "<div class=\"alert alert-warning\">**Exercise (ex2).**\n",
    "Repeat Exercise ex1, but this time using vectorized code. Compare the speed of the two styles of code.\n",
    "</div>"
   ]
  },
  {
   "cell_type": "code",
   "execution_count": 9,
   "metadata": {},
   "outputs": [
    {
     "name": "stdout",
     "output_type": "stream",
     "text": [
      "For the first ex2, about timing: On my machine, Python code took 750ms, numpy took 47ms.\n",
      "For the second ex2, about matrices: len(a) is the size of the first dimension. a.shape gives the size of every dimension.\n",
      "{'mean': 0.76516535988943712, 'sd': 0.28480661255793482}\n"
     ]
    }
   ],
   "source": [
    "xs = 2*np.random.random(N)-1\n",
    "ys = 2*np.random.random(N)-1\n",
    "d = np.sqrt(xs**2 + ys**2)\n",
    "mean = np.mean(d)\n",
    "std = np.std(d)\n",
    "q = GRADER.fetch_question('ex2')\n",
    "print(q)\n",
    "ans = {'mean': mean, 'sd': std}\n",
    "print(ans)"
   ]
  },
  {
   "cell_type": "markdown",
   "metadata": {},
   "source": [
    "## 2.2 Vectorized thinking: `for` considered harmful<span id=\"vectorized\"></span>\n",
    "\n",
    "Vectorized thinking isn't just for mathematical calculations &mdash; there are all sorts of programming constructs that can be vectorized also. In general, whenever you find yourself writing a `for` loop or a Python [list comprehension](1.%20Programming%20in%20Python.ipynb#comprehension), stop and see if you can vectorize your code. You'll usually end up with something more flexible for scientific computing.\n",
    "\n",
    "**Programming:**\n",
    "\n",
    "* `len(x)` gives the length of a vector\n",
    "* `np.any`, `np.all` and other [logic functions](https://docs.scipy.org/doc/numpy/reference/routines.logic.html#logic-functions)\n",
    "* `~x` is logical negation, the equivalent of Python's `not x`; `x & y` and `x | y` both work\n",
    "* `np.count_nonzero(x)` counts the number of entries where `x` is `True` or non-zero\n",
    "* `np.sort` sorts a vector; `np.argsort(x)` gives the vector `i` such that `x[i]` is sorted; also see other [sort functions](https://docs.scipy.org/doc/numpy/reference/routines.sort.html#sorting)\n",
    "* `np.argmax` and other [search functions](https://docs.scipy.org/doc/numpy/reference/routines.sort.html#searching)\n",
    "* `np.where(cond,x,y)` is the vectorized version of `x if cond else y`\n",
    "* `np.vectorize(f)` is a vectorized version of an arbitrary Python function f\n",
    "\n",
    "**Indexing:**\n",
    "\n",
    "* The usual [slice notation](1.%20Programming%20in%20Python.ipynb#collections) works, e.g. `x[:10]` or `x[10:]` or `x[:-3]`\n",
    "* We can index by a vector of booleans, e.g. `x[y>5] = 3`\n",
    "* We can index by a vector of integers, e.g. `i=np.where(y>5); x[i]=3`\n",
    "* `np.where(b)` gives a vector of indexes at which the boolean vector `b` is `True`\n",
    "* `np.concatenate([v1,v2])` concatenates two or more vectors"
   ]
  },
  {
   "cell_type": "markdown",
   "metadata": {},
   "source": [
    "### More elaborate example\n",
    "Here's an example, a vectorized version of Exercise ex4 from Section 1. Suppose we want to sort the following vector by length, breaking ties alphabetically."
   ]
  },
  {
   "cell_type": "code",
   "execution_count": 10,
   "metadata": {
    "collapsed": true
   },
   "outputs": [],
   "source": [
    "names = np.array(['adrian', 'chloe', 'guarav', 'shay', 'alexis', 'rebecca', 'zubin'])"
   ]
  },
  {
   "cell_type": "markdown",
   "metadata": {},
   "source": [
    "* First, get a vector with the length of each name. Numpy does have some routines for working with strings, but as the name suggests it is really oriented around numbers, and I prefer to use Python functions. I'll still wrap them up with `np.vectorize`, so that I can apply them to a whole vector without having to write a list comprehension.\n",
    "* Second, work out how to put `lengths` in order, breaking ties alphabetically by `names`. This is called lexicographic sorting, and there is a function `np.lexsort` that like `np.argsort` returns a vector of integer indexes that will achieve this ordering.\n",
    "* Last, pick out the `names` in the order specified by these indexes."
   ]
  },
  {
   "cell_type": "code",
   "execution_count": 11,
   "metadata": {},
   "outputs": [
    {
     "data": {
      "text/plain": [
       "array(['shay', 'chloe', 'zubin', 'adrian', 'alexis', 'guarav', 'rebecca'], \n",
       "      dtype='<U7')"
      ]
     },
     "execution_count": 11,
     "metadata": {},
     "output_type": "execute_result"
    }
   ],
   "source": [
    "lengths = np.vectorize(len)(names)\n",
    "indexes = np.lexsort([names, lengths])\n",
    "names[indexes]"
   ]
  },
  {
   "cell_type": "markdown",
   "metadata": {},
   "source": [
    "At the [end of this notebook](#exercises) you'll find some more challenging exercises in vectorized thinking."
   ]
  },
  {
   "cell_type": "markdown",
   "metadata": {},
   "source": [
    "## 2.3 Arrays<span id=\"arrays\"></span>\n",
    "\n",
    "NumPy supports matrices and higher-dimensional arrays. (In fact, when we look up the help for any of the vectorized routines, we see that vectors are nothing more than one-dimensional arrays.) To enter a 2d array like\n",
    "$$\n",
    "a = \\left( \\begin{matrix} 2.2 & 3.7 & 9.1\\\\-4 & 3.1 & 1.3\\end{matrix}\\right)\n",
    "$$\n",
    "we type in"
   ]
  },
  {
   "cell_type": "code",
   "execution_count": 12,
   "metadata": {
    "collapsed": true
   },
   "outputs": [],
   "source": [
    "a = np.array([[2.2, 3.7, 9.1], [-4, 3.1, 1.3]])"
   ]
  },
  {
   "cell_type": "markdown",
   "metadata": {},
   "source": [
    "Use `a.shape` to find the dimensions of an array:"
   ]
  },
  {
   "cell_type": "code",
   "execution_count": 13,
   "metadata": {},
   "outputs": [
    {
     "data": {
      "text/plain": [
       "(2, 3)"
      ]
     },
     "execution_count": 13,
     "metadata": {},
     "output_type": "execute_result"
    }
   ],
   "source": [
    "a.shape"
   ]
  },
  {
   "cell_type": "markdown",
   "metadata": {},
   "source": [
    "To refer to a subarray, we can use an extended version of Python's slice notation."
   ]
  },
  {
   "cell_type": "code",
   "execution_count": 14,
   "metadata": {},
   "outputs": [
    {
     "data": {
      "text/plain": [
       "array([[ 1. ,  2. ,  9.1],\n",
       "       [ 3. ,  4. ,  1.3]])"
      ]
     },
     "execution_count": 14,
     "metadata": {},
     "output_type": "execute_result"
    }
   ],
   "source": [
    "a[:, :2]                   # all rows, first two columns\n",
    "a[1, :]                    # second row (indexes start at 0), all columns\n",
    "a[1]                       # another way to fetch the second row\n",
    "a[:2, :2] = [[1,2],[3,4]]  # assign to a submatrix\n",
    "a"
   ]
  },
  {
   "cell_type": "markdown",
   "metadata": {},
   "source": [
    "To refer to arbitrary sets of elements in the array, we can use boolean indexing e.g. `a[a>=2]`, or integer indexing as in the code snippet below. These are both called [advanced indexing](https://docs.scipy.org/doc/numpy/reference/arrays.indexing.html#advanced-indexing)."
   ]
  },
  {
   "cell_type": "code",
   "execution_count": 15,
   "metadata": {},
   "outputs": [
    {
     "data": {
      "text/plain": [
       "array([[0, 1, 0],\n",
       "       [1, 0, 0],\n",
       "       [0, 0, 1]])"
      ]
     },
     "execution_count": 15,
     "metadata": {},
     "output_type": "execute_result"
    }
   ],
   "source": [
    "a = np.zeros((3,3), dtype=np.int)\n",
    "a[[0,1,2], [1,0,2]] = [1,1,1] #first array refers to row, and second array refers to column - to find out index i we \n",
    "                            # take (row[i],col[i]) \n",
    "                              #so we set the indices (0,1) (1,0) (2,2) to 1, 1 and 1 respectively\n",
    "a"
   ]
  },
  {
   "cell_type": "markdown",
   "metadata": {},
   "source": [
    "For 1d vectors the only reshaping operations are slicing and concatenating, but for higher dimensional arrays there is a whole variety of [reshaping functions](https://docs.scipy.org/doc/numpy/reference/routines.array-manipulation.html#array-manipulation-routines) such as stacking, tiling, transposing, etc. The most useful operations is adding a new dimension, for example to turn a one-dimensional vector into a column vector. The second most useful is stacking vectors to form an array."
   ]
  },
  {
   "cell_type": "code",
   "execution_count": 16,
   "metadata": {},
   "outputs": [
    {
     "data": {
      "text/plain": [
       "array([[1],\n",
       "       [2],\n",
       "       [3]])"
      ]
     },
     "execution_count": 16,
     "metadata": {},
     "output_type": "execute_result"
    }
   ],
   "source": [
    "x = np.array([1,2,3])  # one-dimensional, shape=(3,)\n",
    "x[:, np.newaxis]       # two-dimensional, shape=(3,1)"
   ]
  },
  {
   "cell_type": "code",
   "execution_count": 17,
   "metadata": {},
   "outputs": [
    {
     "data": {
      "text/plain": [
       "array([[1, 3, 5],\n",
       "       [2, 4, 6]])"
      ]
     },
     "execution_count": 17,
     "metadata": {},
     "output_type": "execute_result"
    }
   ],
   "source": [
    "np.column_stack([[1,2], [3,4], [5,6]])"
   ]
  },
  {
   "cell_type": "markdown",
   "metadata": {},
   "source": [
    "<div class=\"alert alert-warning\">**Exercise (ex2).** What is the relationship between <code style=\"background-color:inherit\">a.shape</code> and <code style=\"background-color:inherit\">len(a)</code>?</div>"
   ]
  },
  {
   "cell_type": "code",
   "execution_count": 18,
   "metadata": {},
   "outputs": [
    {
     "name": "stdout",
     "output_type": "stream",
     "text": [
      "For the first ex2, about timing: On my machine, Python code took 750ms, numpy took 47ms.\n",
      "For the second ex2, about matrices: len(a) is the size of the first dimension. a.shape gives the size of every dimension.\n"
     ]
    }
   ],
   "source": [
    "q = GRADER.fetch_question('ex2')\n",
    "print(q)\n",
    "ans = '''\n",
    "a.shape returns a tuple giving the size of each dimension, whereas len(a) only gives the size of the 1st dimension\n",
    "\n",
    "'''"
   ]
  },
  {
   "cell_type": "markdown",
   "metadata": {},
   "source": [
    "<div class=\"alert alert-warning\">**Exercise (ex3).** Look up the NumPy help for <code style=\"background-color:inherit\">np.arange</code> and <code style=\"background-color:inherit\">np.reshape</code>, and use these functions to produce the $3\\times5$ matrix\n",
    "$$\n",
    "b = \\left( \\begin{matrix} \n",
    "1 & 2 & 3 & 4 & 5\\\\\n",
    "6 & 7 & 8 & 9 & 10\\\\\n",
    "11 & 12 & 13 & 14 & 15\n",
    "\\end{matrix} \\right)\n",
    "$$\n",
    "Look up the help for <code style=\"background-color:inherit\">np.sum</code>, and compute the length-5 vector of column sums and the length-3 vector of row sums.\n",
    "</div>"
   ]
  },
  {
   "cell_type": "code",
   "execution_count": 19,
   "metadata": {},
   "outputs": [
    {
     "name": "stdout",
     "output_type": "stream",
     "text": [
      "b = np.arange(1,16).reshape((3,5))\n",
      "print(\"column sums\", np.sum(b, axis=0))\n",
      "print(\"row sums\", np.sum(b, axis=1))\n",
      "[[ 1  2  3  4  5]\n",
      " [ 6  7  8  9 10]\n",
      " [11 12 13 14 15]]\n"
     ]
    }
   ],
   "source": [
    "q = GRADER.fetch_question('ex3')\n",
    "print(q)\n",
    "b = np.reshape(np.arange(1,16),(3,5))\n",
    "rowsum = np.sum(b,axis=1)\n",
    "colsum = np.sum(b,axis=0)\n",
    "print(b)"
   ]
  },
  {
   "cell_type": "markdown",
   "metadata": {},
   "source": [
    "<div class=\"alert alert-warning\">**Exercise (ex4).**\n",
    "Find two different ways to use NumPy to create the column vector <code style=\"background-color:inherit\">array([[1],[2],...,[n]])</code>.\n",
    "</div>"
   ]
  },
  {
   "cell_type": "code",
   "execution_count": 20,
   "metadata": {},
   "outputs": [
    {
     "name": "stdout",
     "output_type": "stream",
     "text": [
      "np.arange(1,n+1).reshape((n,1))\n",
      "np.stack([np.arange(1,n+1)]).T\n",
      "[[ 1]\n",
      " [ 2]\n",
      " [ 3]\n",
      " [ 4]\n",
      " [ 5]\n",
      " [ 6]\n",
      " [ 7]\n",
      " [ 8]\n",
      " [ 9]\n",
      " [10]]\n"
     ]
    }
   ],
   "source": [
    "q = GRADER.fetch_question('ex4')\n",
    "print(q)\n",
    "n= 10\n",
    "array = np.reshape(np.arange(1,n+1),(n,1))\n",
    "array = np.column_stack(np.arange(1,n+1)).T\n",
    "print(array)"
   ]
  },
  {
   "cell_type": "markdown",
   "metadata": {},
   "source": [
    "<div class=\"alert alert-warning\">**Exercise (ex5).**\n",
    "A <a href=\"https://en.wikipedia.org/wiki/Permutation_matrix\">permutation matrix</a> is a square matrix of 0s and 1s,\n",
    "where each row contains exactly one 1, and each column likewise. (The code snippet above for advanced indexing creates a $3\\times3$ permutation matrix.) Write code to generate a random $n\\times n$ permutation matrix.\n",
    "</div>"
   ]
  },
  {
   "cell_type": "code",
   "execution_count": 21,
   "metadata": {},
   "outputs": [
    {
     "name": "stdout",
     "output_type": "stream",
     "text": [
      "[[0 0 0 1 0]\n",
      " [0 1 0 0 0]\n",
      " [0 0 1 0 0]\n",
      " [0 0 0 0 1]\n",
      " [1 0 0 0 0]]\n",
      "a = np.zeros((n,n), dtype=int)\n",
      "a[np.arange(n), np.random.permutation(n)] = 1\n"
     ]
    }
   ],
   "source": [
    "N = 5\n",
    "ans = np.zeros((N,N), dtype=np.int)\n",
    "rowindex = np.arange(N)\n",
    "np.random.shuffle(rowindex)\n",
    "colindex = np.arange(N)\n",
    "np.random.shuffle(colindex)\n",
    "ans[rowindex,colindex] = np.ones(N)\n",
    "print(ans)\n",
    "q = GRADER.fetch_question('ex5')\n",
    "print(q)\n"
   ]
  },
  {
   "cell_type": "markdown",
   "metadata": {},
   "source": [
    "NumPy also has a powerful tool called [broadcasting](https://docs.scipy.org/doc/numpy/user/basics.broadcasting.html) which generalizes \"add a scalar to a vector\", and which is used a lot in more advanced array-manipulating code. It's more advanced than we need for this course, but it's used a lot in machine learning and it's worth reading about."
   ]
  },
  {
   "cell_type": "markdown",
   "metadata": {},
   "source": [
    "In Easter term, you will study linear algebra in the _Maths for Natural Sciences_ course. If you want to try out the maths, you'll find relevant functions in [`np.linalg`](https://docs.scipy.org/doc/numpy/reference/routines.linalg.html)\n",
    "and\n",
    "[`np.dual`](https://docs.scipy.org/doc/numpy/reference/routines.dual.html)."
   ]
  },
  {
   "cell_type": "markdown",
   "metadata": {},
   "source": [
    "## 2.4 Numerical optimization and fitting<span id=\"opt\"></span>"
   ]
  },
  {
   "cell_type": "markdown",
   "metadata": {},
   "source": [
    "A common task in science and in machine learning is to find the minimum value of a function, which may have one or more variables. For example, we might have a collection of points that more or less follow a straight line, and we might want to use the equation $y=mx+c$. In this case, we'd like to tune the values of $m$ and $c$ so that the equation lies close to the data. We can achieve this by defining a function $L(m,c)$ that measures how far the points are from the straight line, and then choosing $m$ and $c$ to minimize $L(m,c)$.\n",
    "\n",
    "<span style=\"background-color:red; padding:1pt; color:white\">WARNING!</span> The methods we discuss here sometimes work brilliantly, but sometimes are unstable. This is not the fault of Python or the libraries we are using. \n",
    "It's just the case that sometimes the equations in the algorithm and numerical issues in the data are not well balanced. This is something we need to bear in mind every time we use these methods, and we should check the output, for example by plotting graphs.\n",
    "\n",
    "Let's start by minimizing a simple function of one variable. We could use calculus to find the minimum for a simple example like this, but let's do it with computer power instead."
   ]
  },
  {
   "cell_type": "code",
   "execution_count": 22,
   "metadata": {
    "collapsed": true
   },
   "outputs": [],
   "source": [
    "def f(x, a, b, c):\n",
    "    return a*x + b*(x**2) + c*(x**4)"
   ]
  },
  {
   "cell_type": "markdown",
   "metadata": {},
   "source": [
    "We'll plot this function first, to get a rough idea of where the minimum should be.\n",
    "Visualisation is a crucial part of scientific computing, and we'll cover it in much more detail in [&sect;3 Working with Data](3.%20Working%20with%20data.ipynb), but for present purposes we'll just use some very simple plotting commands. The [pyplot tutorial](https://matplotlib.org/users/pyplot_tutorial.html) explains more options."
   ]
  },
  {
   "cell_type": "code",
   "execution_count": 23,
   "metadata": {},
   "outputs": [
    {
     "data": {
      "image/png": "[encoded data removed]",
      "text/plain": [
       "<matplotlib.figure.Figure at 0x7f905dfca6a0>"
      ]
     },
     "metadata": {},
     "output_type": "display_data"
    }
   ],
   "source": [
    "\n",
    "x = np.linspace(-2,2,40)          # 40 equally spaced points in the range [-2,2]\n",
    "y = f(x, a=1, b=-3, c=1)          # f is already vectorized, because it only uses vectorized calculations\n",
    "plt.plot(x, y, linestyle='-', linewidth=1, color='red')\n",
    "plt.show()"
   ]
  },
  {
   "cell_type": "markdown",
   "metadata": {},
   "source": [
    "The `scipy.optimize.fmin` function finds where the function achieves its minimum value, starting from an initial guess `x0`. The first argument is the function to optimize. In the snippet below we're giving it an anonymous function that is a version of `f` with the parameters `a`, `b` and `c` filled in."
   ]
  },
  {
   "cell_type": "code",
   "execution_count": 24,
   "metadata": {},
   "outputs": [
    {
     "name": "stdout",
     "output_type": "stream",
     "text": [
      "Optimization terminated successfully.\n",
      "         Current function value: -1.070230\n",
      "         Iterations: 16\n",
      "         Function evaluations: 32\n"
     ]
    },
    {
     "data": {
      "text/plain": [
       "array([ 1.13085938])"
      ]
     },
     "execution_count": 24,
     "metadata": {},
     "output_type": "execute_result"
    }
   ],
   "source": [
    "scipy.optimize.fmin(lambda x: f(x,a=1,b=-3,c=1), x0=0.5)"
   ]
  },
  {
   "cell_type": "markdown",
   "metadata": {},
   "source": [
    "It found a local minimum, not the global minimum. This is often a problem with numerical optimization routines, and it's why it's helpful to look at the data first."
   ]
  },
  {
   "cell_type": "markdown",
   "metadata": {},
   "source": [
    "<div class=\"alert alert-warning\">**Exercise (ex6).** \n",
    "What starting point do we need to give, so that it can find the global optimum?\n",
    "Run <code style=\"background-color:inherit\">scipy.optimize.fmin</code> for a range of values of \n",
    "<code style=\"background-color:inherit\">x0</code> in the range $[-2,2]$. Tabulate \n",
    "<code style=\"background-color:inherit\">x0</code> versus the minimizing $x$ it finds. You can turn off the diagnostic output with the option\n",
    "<code style=\"background-color:inherit\">disp=False</code>.</div>"
   ]
  },
  {
   "cell_type": "code",
   "execution_count": 25,
   "metadata": {},
   "outputs": [
    {
     "name": "stdout",
     "output_type": "stream",
     "text": [
      "[-1.30087891]\n",
      "[-1.30085449]\n",
      "[-1.30087891]\n",
      "[-1.30087891]\n",
      "[-1.3008125]\n",
      "[ 1.13085938]\n",
      "[ 1.13085938]\n",
      "[ 1.13093262]\n",
      "[ 1.13085937]\n"
     ]
    }
   ],
   "source": [
    "print(scipy.optimize.fmin(lambda x: f(x,a=1,b=-3,c=1), x0=-2, disp=False))\n",
    "print(scipy.optimize.fmin(lambda x: f(x,a=1,b=-3,c=1), x0=-1.5, disp=False))\n",
    "print(scipy.optimize.fmin(lambda x: f(x,a=1,b=-3,c=1), x0=-1, disp=False))\n",
    "print(scipy.optimize.fmin(lambda x: f(x,a=1,b=-3,c=1), x0=-0.5, disp=False))\n",
    "print(scipy.optimize.fmin(lambda x: f(x,a=1,b=-3,c=1), x0=0, disp=False))\n",
    "print(scipy.optimize.fmin(lambda x: f(x,a=1,b=-3,c=1), x0=0.5, disp=False))\n",
    "print(scipy.optimize.fmin(lambda x: f(x,a=1,b=-3,c=1), x0=1, disp=False))\n",
    "print(scipy.optimize.fmin(lambda x: f(x,a=1,b=-3,c=1), x0=1.5, disp=False))\n",
    "print(scipy.optimize.fmin(lambda x: f(x,a=1,b=-3,c=1), x0=2, disp=False))"
   ]
  },
  {
   "cell_type": "markdown",
   "metadata": {},
   "source": [
    "Here is an example of a function of two variables. We'll try to fit the straight line $y=mx+c$ through a set of points. We'll define the _loss function_\n",
    "$$\n",
    "L(m,c) = \\sum_i (m x_i + c - y_i)^2\n",
    "$$\n",
    "and look for $m$ and $c$ to minimize it."
   ]
  },
  {
   "cell_type": "code",
   "execution_count": 26,
   "metadata": {
    "collapsed": true
   },
   "outputs": [],
   "source": [
    "x = np.linspace(-3,3,40)\n",
    "y = np.sin(x) + 2 * np.random.random(x.shape)\n",
    "\n",
    "def loss(m,c):\n",
    "    return np.sum((m*x+c - y)**2)"
   ]
  },
  {
   "cell_type": "markdown",
   "metadata": {},
   "source": [
    "Before we do any numerical work, we should visualize what we're doing. Here are a plot of the points $(x_i,y_i)$, and a surface plot of the loss function $L(m,c)$ as a function of $m$ and $c$. The 3d plotting functions are somewhat mysterious, and you should look at [relevant examples](https://matplotlib.org/examples/mplot3d/index.html) and copy them. "
   ]
  },
  {
   "cell_type": "code",
   "execution_count": 27,
   "metadata": {},
   "outputs": [
    {
     "data": {
      "image/png": "[encoded data removed]",
      "text/plain": [
       "<matplotlib.figure.Figure at 0x7f905df67208>"
      ]
     },
     "metadata": {},
     "output_type": "display_data"
    }
   ],
   "source": [
    "# Scatter plot of the data\n",
    "plt.plot(x, y, marker='o', markerfacecolor='white', markeredgecolor='black', linestyle='None')\n",
    "plt.show()"
   ]
  },
  {
   "cell_type": "code",
   "execution_count": 28,
   "metadata": {},
   "outputs": [
    {
     "data": {
      "image/png": "[encoded data removed]",
      "text/plain": [
       "<matplotlib.figure.Figure at 0x7f904f637710>"
      ]
     },
     "metadata": {},
     "output_type": "display_data"
    }
   ],
   "source": [
    "# Surface plot of loss(m,c)\n",
    "# adapted from https://matplotlib.org/examples/mplot3d/surface3d_demo.html\n",
    "\n",
    "# Create 2d arrays, one with each m value, one with each c value, one with loss\n",
    "m,c = np.meshgrid(np.linspace(-3,3,20), np.linspace(-3,5,20))\n",
    "l = np.zeros_like(m)\n",
    "for i in range(l.shape[0]):\n",
    "    for j in range(l.shape[1]):\n",
    "        l[i,j] = loss(m[i,j], c[i,j])\n",
    "\n",
    "from mpl_toolkits.mplot3d import axes3d   # import a library to allow 3d plots\n",
    "axes = plt.figure().gca(projection='3d')  # say that we want axes for a 3d plot\n",
    "axes.plot_surface(m, c, l)                # draw a surface plot\n",
    "axes.set_xlabel('m')\n",
    "axes.set_ylabel('c')\n",
    "plt.show()"
   ]
  },
  {
   "cell_type": "markdown",
   "metadata": {},
   "source": [
    "It doesn't look like $L(m,c)$ has any nasty surprises, so let's find the minimizing $m$ and $c$."
   ]
  },
  {
   "cell_type": "code",
   "execution_count": 29,
   "metadata": {},
   "outputs": [
    {
     "name": "stdout",
     "output_type": "stream",
     "text": [
      "Optimization terminated successfully.\n",
      "         Current function value: 15.775183\n",
      "         Iterations: 61\n",
      "         Function evaluations: 117\n"
     ]
    },
    {
     "data": {
      "text/plain": [
       "array([ 0.35363391,  0.95442737])"
      ]
     },
     "execution_count": 29,
     "metadata": {},
     "output_type": "execute_result"
    }
   ],
   "source": [
    "# To optimize a function of several several variables, provide them as an array\n",
    "# of the appropriate length.\n",
    "optpars = scipy.optimize.fmin(lambda params: loss(params[0], params[1]), x0=[0,0])\n",
    "optpars"
   ]
  },
  {
   "cell_type": "markdown",
   "metadata": {},
   "source": [
    "Now let's plot the data again, with the fitted straight line."
   ]
  },
  {
   "cell_type": "code",
   "execution_count": 30,
   "metadata": {},
   "outputs": [
    {
     "data": {
      "image/png": "[encoded data removed]",
      "text/plain": [
       "<matplotlib.figure.Figure at 0x7f904f658e10>"
      ]
     },
     "metadata": {},
     "output_type": "display_data"
    }
   ],
   "source": [
    "# Plot the points\n",
    "plt.plot(x, y, marker='o', markerfacecolor='white', markeredgecolor='black', linestyle='None')\n",
    "# Plot the fitted line\n",
    "def fit(x):\n",
    "    return optpars[0] * x + optpars[1]\n",
    "plt.plot([-3,3], [fit(-3),fit(3)], linestyle='--', color='lightblue', linewidth=2)\n",
    "# Show the graphic\n",
    "plt.show()"
   ]
  },
  {
   "cell_type": "markdown",
   "metadata": {},
   "source": [
    "## 2.5 Simulation<span id=\"sim\"></span>\n",
    "\n",
    "Simulation is a mainstay of scientific computing. A common style with numpy is to predefine an array to store the results, one row per timestep, and then iterate over timesteps gradually filling in the array. (This is the one case where `for` loops are appropriate.) Here's an example, a differential equation simulation. A model that has been proposed for [TCP](https://en.wikipedia.org/wiki/Transmission_Control_Protocol) is\n",
    "\n",
    "$$\n",
    "\\frac{d x_t}{d t} = \\frac{1}{\\text{RTT}^2} - p_{t-\\text{RTT}} x_{t-\\text{RTT}} \\frac{x_t}{2},\n",
    "\\quad\\quad\n",
    "p_t = \\frac{\\max(x_t-C,0)}{x_t}\n",
    "$$\n",
    "\n",
    "where $x_t$ is the transmission rate of a sender at time $t$ measured in packets per second, $\\text{RTT}$ is the round trip time, $p_t$ is the packet drop probability, and $C$ is the link capacity. We might simulate this as follows."
   ]
  },
  {
   "cell_type": "code",
   "execution_count": 31,
   "metadata": {},
   "outputs": [
    {
     "data": {
      "image/png": "[encoded data removed]",
      "text/plain": [
       "<matplotlib.figure.Figure at 0x7f90297422e8>"
      ]
     },
     "metadata": {},
     "output_type": "display_data"
    }
   ],
   "source": [
    "x0 = 1       # initial transmission rate, in pkt/sec\n",
    "C = 10       # link capacity, in pkt/sec\n",
    "T = 20       # simulated duration in seconds\n",
    "RTT = 0.2    # round trip time in seconds\n",
    "dt = 0.01    # timestep size\n",
    "def P(x): return max(x-C,0) / x\n",
    "\n",
    "# Initialization\n",
    "num_iterations = np.ceil(T/dt).astype(int)\n",
    "res = np.zeros((num_iterations, 3))  # a matrix to store t,x,p\n",
    "res[0,1:] = [x0, P(x0)]\n",
    "steps_back = int(RTT/dt)\n",
    "\n",
    "# Loop\n",
    "for i in range(1, num_iterations):\n",
    "    (t,x,p),(xold,pold) = res[i-1], res[max(i-1-steps_back,0),1:]\n",
    "    dx = 1/(RTT**2) - pold*xold*x / 2\n",
    "    x = x + dx * dt\n",
    "    p = P(x)\n",
    "    res[i] = (t + dt, x, p)\n",
    "\n",
    "# Plot the output (see Section 3 for more about plotting)\n",
    "fig,(ax1,ax2) = plt.subplots(2, 1, sharex=True)\n",
    "ax1.plot(res[:,0], res[:,1])\n",
    "ax2.plot(res[:,0], res[:,2], color='orange')\n",
    "ax1.set_ylabel('x')\n",
    "ax2.set_ylabel('p')\n",
    "ax2.set_xlabel('t')\n",
    "plt.show()"
   ]
  },
  {
   "cell_type": "markdown",
   "metadata": {},
   "source": [
    "* From a mathematical point of view this isn't ideal, because there are [much more sophisticated numerical methods for solving differential equations](https://docs.scipy.org/doc/scipy-0.13.0/reference/generated/scipy.integrate.ode.html).\n",
    "* From a computer science point of view this isn't ideal, because the code tangles together the iteration logic with the logging logic. You may like to rewrite it using [lazy lists](A1.%20Python%20language%20choices.ipynb#lazy).\n",
    "* But from a scientific computing point of view, simulations like this are so easy to put together and learn from, that they are invaluable."
   ]
  },
  {
   "cell_type": "markdown",
   "metadata": {},
   "source": [
    "What we have written is called a discrete-time simulation, because time advances in fixed increments. \n",
    "In IA _Algorithms_ you will study the _heap_ data structure and event-driven simulation, in which time is pegged to changes in state."
   ]
  },
  {
   "cell_type": "markdown",
   "metadata": {},
   "source": [
    "# More exercises<span id=\"exercises\"></span>"
   ]
  },
  {
   "cell_type": "markdown",
   "metadata": {},
   "source": [
    "**Exercise (ex7).**\n",
    "In [&sect;1](1.%20Programming%20in%20Python.ipynb#lindley) you wrote a Pythonic simulator for a queue, based on Lindley's recursion\n",
    "$$\n",
    "q_{t+1} = \\max(q_t+a_t-C, 0).\n",
    "$$\n",
    "It can be proved that this yields the same answer as\n",
    "$$\n",
    "q_t = q_0 + x_t - \\min(0, y_t),\n",
    "$$\n",
    "where\n",
    "$$\n",
    "x_t = \\sum_{u=1}^t (a_u-C)\n",
    "\\quad\\text{and}\\quad\n",
    "y_t = \\min_{1 \\leq u \\leq t} (q_0 + x_u).\n",
    "$$\n",
    "Compute $x=[x_1,x_2,\\dots]$ using [`np.cumsum`](https://docs.scipy.org/doc/numpy/reference/generated/numpy.cumsum.html).\n",
    "Compute $y=[y_1,y_2,\\dots]$ using \n",
    "[`np.ufunc.accumulate`](https://docs.scipy.org/doc/numpy/reference/generated/numpy.ufunc.accumulate.html).\n",
    "Hence compute $q=[q_1,q_2,\\dots]$.\n",
    "Check your answer against your Pythonic code."
   ]
  },
  {
   "cell_type": "code",
   "execution_count": 32,
   "metadata": {},
   "outputs": [
    {
     "name": "stdout",
     "output_type": "stream",
     "text": [
      "def lindley_np(q0, C, a):\n",
      "    x = np.cumsum(a - C)\n",
      "    y = np.minimum.accumulate(x + q0)\n",
      "    return q0 + x - np.minimum(0, y)\n",
      "lindley_np(1, 3, np.array([4,1,2,8,2,3,1]))\n",
      "[2 0 0 5 4 4 2]\n"
     ]
    }
   ],
   "source": [
    "def sim(q0,C,a):\n",
    "    x = np.cumsum(np.array(a)-C)\n",
    "    y = np.minimum.accumulate(x+q0) \n",
    "    q = q0 + x - np.minimum(y,0)\n",
    "    return q\n",
    "    \n",
    "q = GRADER.fetch_question('ex7')\n",
    "print(q)\n",
    "print(sim(1,3,[4,1,2,8,2,3,1]))\n",
    "    "
   ]
  },
  {
   "cell_type": "markdown",
   "metadata": {},
   "source": [
    "**Exercise.** _Continuing from Assignment 2..._\n",
    "In the kinetic exchange model, the poorest and the richest might swap places after just one transaction, which isn't very likely. Consider a different model for exchange. As before, suppose that two individuals with wealth $v$ and $w$ respectively are paired, but now let their wealth be updated by\n",
    "$$\n",
    "v_{\\text{new}} = v + R \\min(v,w),\n",
    "\\quad\n",
    "w_{\\text{new}} = w - R \\min(v,w)\n",
    "$$\n",
    "where $R$ is now a random number in $[-1,1]$, chosen independently for every pair at every timestep. The idea is that each party to the exchange puts up a certain amount of money, but no more than they can afford. Call this the _value transfer_ model.\n",
    "\n",
    "We can extend this model to include government intervention. Suppose the government charges a tax of say 20% on every exchange, collects all the tax revenue every timestep, and distributes it evenly to the entire population. This redistribution ought to have the effect of reducing inequality. Call this the _taxed value transfer_ model. Here is a concrete example, for a population of size 6.\n",
    "> 1. Initial wealth values are $[0,2,5,3,1,2]$\n",
    "> 1. We pair adjacent individuals: $[0,2; 5,3; 1,2]$\n",
    "> 1. Random exchange amounts pre-tax are $[0,0; 2.6,-2.6; -0.4,0.4]$\n",
    "> 1. Exchange amounts post-tax are $[0,0; 2.08,-2.6; -0.4,0.32]$\n",
    "> 1. Government revenue is $(2.6-2.08) + (0.4-0.32) = 0.6$\n",
    "> 1. Government redistributes $0.6/6=0.1$ to each person\n",
    "> 1. Change in wealth is $[0.1,0.1, 2.18,-2.5, -0.3,0.42]$.<br>\n",
    "> 1. New wealth vector is $[0.1, 2.1, 7.18, 0.5, 0.7, 2.42]$.\n",
    "\n",
    "Also, let's introduce another way to measure inequality. The Gini coefficient is unfamiliar to many people, and it's easier to communicate \"The richest 1% of the population own $x$% of the wealth.\"\n",
    "\n",
    "Implement the taxed value transfer model. Implement the \"top x%\" measure. Simulate the taxed value transfer model, and measure the Gini coefficient and the \"richest 1%\" statistic at each timestep. Plot these two measures, as a function of time, for tax rates 0%, 20% and 40%. See [&sect;3](3.%20Working%20with%20data.ipynb) for tips on plotting."
   ]
  },
  {
   "cell_type": "code",
   "execution_count": 33,
   "metadata": {
    "collapsed": true
   },
   "outputs": [],
   "source": [
    "def taxed_value_transfer(wealth,tax):\n",
    "    wealth = np.array(wealth)\n",
    "    wealth.astype(float)\n",
    "    v = wealth[0::2]\n",
    "    w = wealth[1::2]\n",
    "    R = 2*np.random.random(len(v)) -1\n",
    "    exchange_amt = R*np.minimum(v,w)\n",
    "    exchange = np.zeros_like(wealth).astype(float)\n",
    "    exchange[0::2] += exchange_amt\n",
    "    exchange[1::2] -= exchange_amt\n",
    "    tax_cut = np.maximum(exchange,0)*tax\n",
    "    exchange -= tax_cut\n",
    "    wealth= wealth + exchange\n",
    "    redistribute = np.sum(tax_cut)/(len(wealth))\n",
    "    wealth = wealth + redistribute\n",
    "    return wealth\n"
   ]
  },
  {
   "cell_type": "code",
   "execution_count": 34,
   "metadata": {
    "collapsed": true
   },
   "outputs": [],
   "source": [
    "def gini(w):\n",
    "    N = len(w)\n",
    "    w = sorted(w)\n",
    "    num = np.sum((np.arange(N)+1)*w)\n",
    "    den = N*np.sum(w)\n",
    "    G = (2*num/den) - (1 + 1/N)\n",
    "    return G\n",
    "\n",
    "def top_one_percent(w):\n",
    "    num_people = round(0.01*len(w))\n",
    "    total_w = float(np.sum(w))\n",
    "    w_desc = np.sort(w)[::-1]\n",
    "    one_percent_w = float(np.sum(w_desc[:num_people]))\n",
    "    return one_percent_w/total_w\n",
    "    "
   ]
  },
  {
   "cell_type": "code",
   "execution_count": 59,
   "metadata": {
    "collapsed": true
   },
   "outputs": [],
   "source": [
    "def tax_sim(N,T,tax,inflation=1.0):\n",
    "    wealth = np.ones(N)\n",
    "    gs = []\n",
    "    pcs = []\n",
    "    for _ in range(T):\n",
    "        wealth = taxed_value_transfer(wealth,tax)\n",
    "        wealth = wealth*inflation\n",
    "        gs.append(gini(wealth))\n",
    "        pcs.append(top_one_percent(wealth))\n",
    "    return gs,pcs"
   ]
  },
  {
   "cell_type": "code",
   "execution_count": 37,
   "metadata": {
    "collapsed": true
   },
   "outputs": [],
   "source": [
    "gs0,pcs0 = tax_sim(500000,100,0)\n",
    "gs20,pcs20 = tax_sim(500000,100,0.2)\n",
    "gs40,pcs40 = tax_sim(500000,100,0.4)"
   ]
  },
  {
   "cell_type": "code",
   "execution_count": 38,
   "metadata": {},
   "outputs": [
    {
     "data": {
      "image/png": "[encoded data removed]",
      "text/plain": [
       "<matplotlib.figure.Figure at 0x7f904f6378d0>"
      ]
     },
     "metadata": {},
     "output_type": "display_data"
    }
   ],
   "source": [
    "tstep = np.arange(len(gs20))\n",
    "plt.plot(tstep, gs0,label= 'tax = 0%')\n",
    "plt.plot(tstep, gs20,label= 'tax = 20%')\n",
    "plt.plot(tstep, gs40,label= 'tax = 40%')\n",
    "plt.xlabel('timestep')\n",
    "plt.title('Gini coefficient')\n",
    "plt.legend()\n",
    "plt.show()"
   ]
  },
  {
   "cell_type": "code",
   "execution_count": 39,
   "metadata": {},
   "outputs": [
    {
     "data": {
      "image/png": "[encoded data removed]",
      "text/plain": [
       "<matplotlib.figure.Figure at 0x7f902962f518>"
      ]
     },
     "metadata": {},
     "output_type": "display_data"
    }
   ],
   "source": [
    "tstep = np.arange(len(pcs20))\n",
    "plt.plot(tstep, pcs0,label= 'tax = 0%')\n",
    "plt.plot(tstep, pcs20,label= 'tax = 20%')\n",
    "plt.plot(tstep, pcs40,label= 'tax = 40%')\n",
    "plt.xlabel('timestep')\n",
    "plt.title('Top 1% Wealth')\n",
    "plt.legend()\n",
    "plt.show()"
   ]
  },
  {
   "cell_type": "markdown",
   "metadata": {},
   "source": [
    "**Exercise.** _Continuing from the assignment..._\n",
    "Inflation means that wealth grows at an exponential rate, which is likely to exacerbate inequality. Compare a taxed value transfer model with tax rate 20% and no inflation, to a model with inflation of 3% per timestep. How much would tax have to increase, to compensate for this inflation?"
   ]
  },
  {
   "cell_type": "code",
   "execution_count": 68,
   "metadata": {},
   "outputs": [
    {
     "data": {
      "image/png": "[encoded data removed]",
      "text/plain": [
       "<matplotlib.figure.Figure at 0x7f9051feb7b8>"
      ]
     },
     "metadata": {},
     "output_type": "display_data"
    }
   ],
   "source": [
    "gs,pcs = tax_sim(50000,50,0.2)\n",
    "gs_inf,pcs_inf = tax_sim(500000,50,0.2,inflation=1.1)\n",
    "tstep = np.arange(len(gs))\n",
    "\n",
    "plt.plot(tstep, gs,label= 'no inflation')\n",
    "plt.plot(tstep, gs_inf,label= 'inflation = 10%')\n",
    "plt.xlabel('timestep')\n",
    "plt.title('Gini coefficient')\n",
    "plt.legend()\n",
    "plt.show()"
   ]
  },
  {
   "cell_type": "code",
   "execution_count": 69,
   "metadata": {},
   "outputs": [
    {
     "data": {
      "image/png": "[encoded data removed]",
      "text/plain": [
       "<matplotlib.figure.Figure at 0x7f902965c2e8>"
      ]
     },
     "metadata": {},
     "output_type": "display_data"
    }
   ],
   "source": [
    "plt.plot(tstep, pcs,label= 'no inflation')\n",
    "plt.plot(tstep, pcs_inf,label= 'inflation = 10%')\n",
    "plt.xlabel('timestep')\n",
    "plt.title('Top 1% Wealth')\n",
    "plt.legend()\n",
    "plt.show()"
   ]
  },
  {
   "cell_type": "markdown",
   "metadata": {},
   "source": [
    "**Exercise.** _Continuing from the assignment..._ The economist [Thomas Piketty argues](https://en.wikipedia.org/wiki/Capital_in_the_Twenty-First_Century) that we have entered an age where the return on capital is greater than the growth due to income, and that this leads to higher inequality. We could incorporate income into the model by assigning each individual $i$ a per-timestep income $g_i$, where the $g_i$ are randomly chosen _a priori_. If there were no exchange, then wealth would grow linearly, and so the Gini coefficient would remain equal to `gini(g)`. Investigate what happens when we combine income, inflation, and random exchange. How well correlated are income and wealth? Do you agree with Piketty?"
   ]
  }
 ],
 "metadata": {
  "kernelspec": {
   "display_name": "Python 3.6",
   "language": "python",
   "name": "python36"
  },
  "language_info": {
   "codemirror_mode": {
    "name": "ipython",
    "version": 3
   },
   "file_extension": ".py",
   "mimetype": "text/x-python",
   "name": "python",
   "nbconvert_exporter": "python",
   "pygments_lexer": "ipython3",
   "version": "3.6.2"
  }
 },
 "nbformat": 4,
 "nbformat_minor": 2
}
