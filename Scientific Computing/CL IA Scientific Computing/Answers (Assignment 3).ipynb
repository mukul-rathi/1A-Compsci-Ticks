{
 "cells": [
  {
   "cell_type": "markdown",
   "metadata": {
    "collapsed": true
   },
   "source": [
    "# Answers to Assignment 3"
   ]
  },
  {
   "cell_type": "markdown",
   "metadata": {},
   "source": [
    "### **Assignment 3a**"
   ]
  },
  {
   "cell_type": "code",
   "execution_count": 1,
   "metadata": {},
   "outputs": [
    {
     "name": "stdout",
     "output_type": "stream",
     "text": [
      "Waiting for you to log in .. done.\n"
     ]
    }
   ],
   "source": [
    "!pip install ucamcl --upgrade\n",
    "import ucamcl\n",
    "GRADER = ucamcl.autograder('https://markmy.solutions', course='scicomp', section='assignment3a')"
   ]
  },
  {
   "cell_type": "code",
   "execution_count": 2,
   "metadata": {
    "collapsed": true
   },
   "outputs": [],
   "source": [
    "# Import modules, and give them short aliases so we can write e.g. np.foo rather than numpy.foo\n",
    "import math, random\n",
    "import numpy as np\n",
    "import matplotlib.pyplot as plt\n",
    "import matplotlib\n",
    "import pandas as pd\n",
    "# The next line is a piece of magic, to let plots appear in our Jupyter notebooks\n",
    "%matplotlib inline "
   ]
  },
  {
   "cell_type": "markdown",
   "metadata": {},
   "source": [
    "**Question 1:**"
   ]
  },
  {
   "cell_type": "code",
   "execution_count": 3,
   "metadata": {},
   "outputs": [
    {
     "name": "stdout",
     "output_type": "stream",
     "text": [
      "file already downloaded\n",
      "Correct!\n"
     ]
    },
    {
     "data": {
      "text/plain": [
       "(True, 15890)"
      ]
     },
     "execution_count": 3,
     "metadata": {},
     "output_type": "execute_result"
    }
   ],
   "source": [
    "import os.path\n",
    "if os.path.exists('flood.csv'):\n",
    "    print(\"file already downloaded\")\n",
    "else:\n",
    "    !wget \"https://teachingfiles.blob.core.windows.net/scicomp/flood.csv\"\n",
    "df = pd.read_csv(\"flood.csv\")\n",
    "flood = df.loc[df[\"label\"]!=\"Cam\"]\n",
    "num_rows = len(flood)\n",
    "GRADER.submit_answer(GRADER.fetch_question('q1'), num_rows)"
   ]
  },
  {
   "cell_type": "markdown",
   "metadata": {},
   "source": [
    "**Question 2:**"
   ]
  },
  {
   "cell_type": "code",
   "execution_count": 4,
   "metadata": {},
   "outputs": [
    {
     "name": "stdout",
     "output_type": "stream",
     "text": [
      "Correct!\n"
     ]
    },
    {
     "data": {
      "text/plain": [
       "(True, [[2665, 0, 0, 0], [5298, 2617, 2653, 2657]])"
      ]
     },
     "execution_count": 4,
     "metadata": {},
     "output_type": "execute_result"
    }
   ],
   "source": [
    "df = flood.groupby(['river', 'town']).apply(len)\n",
    "df = df.unstack(fill_value=0)\n",
    "GRADER.submit_answer(GRADER.fetch_question('q2'), df.as_matrix())"
   ]
  },
  {
   "cell_type": "markdown",
   "metadata": {},
   "source": [
    "**Question 3:**"
   ]
  },
  {
   "cell_type": "code",
   "execution_count": 5,
   "metadata": {},
   "outputs": [
    {
     "name": "stdout",
     "output_type": "stream",
     "text": [
      "Correct!\n"
     ]
    },
    {
     "data": {
      "text/plain": [
       "(True, [[1, 0, 0, 0], [2, 1, 1, 1]])"
      ]
     },
     "execution_count": 5,
     "metadata": {},
     "output_type": "execute_result"
    }
   ],
   "source": [
    "df2 = flood.groupby(['river', 'town','measure_id']).apply(len)\n",
    "df2 = df2.groupby(['river', 'town']).apply(len)\n",
    "df2 = df2.unstack(fill_value=0)\n",
    "GRADER.submit_answer(GRADER.fetch_question('q3'), df2.as_matrix())\n"
   ]
  },
  {
   "cell_type": "markdown",
   "metadata": {},
   "source": [
    "**Question 4:**"
   ]
  },
  {
   "cell_type": "code",
   "execution_count": 6,
   "metadata": {},
   "outputs": [
    {
     "name": "stdout",
     "output_type": "stream",
     "text": [
      "Correct!\n"
     ]
    },
    {
     "data": {
      "text/plain": [
       "(True, [0.036970243462578906, 0.31511254019292606])"
      ]
     },
     "execution_count": 6,
     "metadata": {},
     "output_type": "execute_result"
    }
   ],
   "source": [
    "flood['norm_value']= (flood['value']-flood['low'])/(flood['high']-flood['low'])\n",
    "tercile1= np.nanpercentile(flood['norm_value'],100/3)\n",
    "tercile2 = np.nanpercentile(flood['norm_value'],200/3)\n",
    "GRADER.submit_answer(GRADER.fetch_question('q4'), [tercile1, tercile2])"
   ]
  },
  {
   "cell_type": "markdown",
   "metadata": {},
   "source": [
    "**Question 5:**"
   ]
  },
  {
   "cell_type": "code",
   "execution_count": 7,
   "metadata": {},
   "outputs": [
    {
     "data": {
      "text/html": [
       "<div>\n",
       "<style>\n",
       "    .dataframe thead tr:only-child th {\n",
       "        text-align: right;\n",
       "    }\n",
       "\n",
       "    .dataframe thead th {\n",
       "        text-align: left;\n",
       "    }\n",
       "\n",
       "    .dataframe tbody tr th {\n",
       "        vertical-align: top;\n",
       "    }\n",
       "</style>\n",
       "<table border=\"1\" class=\"dataframe\">\n",
       "  <thead>\n",
       "    <tr style=\"text-align: right;\">\n",
       "      <th></th>\n",
       "      <th>label</th>\n",
       "      <th>norm_value_tercile</th>\n",
       "      <th>n</th>\n",
       "      <th>ntot</th>\n",
       "    </tr>\n",
       "  </thead>\n",
       "  <tbody>\n",
       "    <tr>\n",
       "      <th>0</th>\n",
       "      <td>Bin Brook</td>\n",
       "      <td>high</td>\n",
       "      <td>993</td>\n",
       "      <td>2665</td>\n",
       "    </tr>\n",
       "    <tr>\n",
       "      <th>1</th>\n",
       "      <td>Bin Brook</td>\n",
       "      <td>low</td>\n",
       "      <td>19</td>\n",
       "      <td>2665</td>\n",
       "    </tr>\n",
       "    <tr>\n",
       "      <th>2</th>\n",
       "      <td>Bin Brook</td>\n",
       "      <td>med</td>\n",
       "      <td>1653</td>\n",
       "      <td>2665</td>\n",
       "    </tr>\n",
       "    <tr>\n",
       "      <th>3</th>\n",
       "      <td>Cambridge Baits Bite</td>\n",
       "      <td>high</td>\n",
       "      <td>2285</td>\n",
       "      <td>2653</td>\n",
       "    </tr>\n",
       "    <tr>\n",
       "      <th>4</th>\n",
       "      <td>Cambridge Baits Bite</td>\n",
       "      <td>low</td>\n",
       "      <td>4</td>\n",
       "      <td>2653</td>\n",
       "    </tr>\n",
       "    <tr>\n",
       "      <th>5</th>\n",
       "      <td>Cambridge Baits Bite</td>\n",
       "      <td>med</td>\n",
       "      <td>364</td>\n",
       "      <td>2653</td>\n",
       "    </tr>\n",
       "    <tr>\n",
       "      <th>6</th>\n",
       "      <td>Cambridge Jesus Lock</td>\n",
       "      <td>high</td>\n",
       "      <td>1906</td>\n",
       "      <td>2651</td>\n",
       "    </tr>\n",
       "    <tr>\n",
       "      <th>7</th>\n",
       "      <td>Cambridge Jesus Lock</td>\n",
       "      <td>low</td>\n",
       "      <td>14</td>\n",
       "      <td>2651</td>\n",
       "    </tr>\n",
       "    <tr>\n",
       "      <th>8</th>\n",
       "      <td>Cambridge Jesus Lock</td>\n",
       "      <td>med</td>\n",
       "      <td>731</td>\n",
       "      <td>2651</td>\n",
       "    </tr>\n",
       "    <tr>\n",
       "      <th>9</th>\n",
       "      <td>Dernford</td>\n",
       "      <td>high</td>\n",
       "      <td>69</td>\n",
       "      <td>2617</td>\n",
       "    </tr>\n",
       "    <tr>\n",
       "      <th>10</th>\n",
       "      <td>Dernford</td>\n",
       "      <td>low</td>\n",
       "      <td>2469</td>\n",
       "      <td>2617</td>\n",
       "    </tr>\n",
       "    <tr>\n",
       "      <th>11</th>\n",
       "      <td>Dernford</td>\n",
       "      <td>med</td>\n",
       "      <td>79</td>\n",
       "      <td>2617</td>\n",
       "    </tr>\n",
       "    <tr>\n",
       "      <th>12</th>\n",
       "      <td>Cambridge</td>\n",
       "      <td>low</td>\n",
       "      <td>2132</td>\n",
       "      <td>2645</td>\n",
       "    </tr>\n",
       "    <tr>\n",
       "      <th>13</th>\n",
       "      <td>Cambridge</td>\n",
       "      <td>med</td>\n",
       "      <td>513</td>\n",
       "      <td>2645</td>\n",
       "    </tr>\n",
       "    <tr>\n",
       "      <th>14</th>\n",
       "      <td>Weston Bampfylde</td>\n",
       "      <td>low</td>\n",
       "      <td>672</td>\n",
       "      <td>2657</td>\n",
       "    </tr>\n",
       "    <tr>\n",
       "      <th>15</th>\n",
       "      <td>Weston Bampfylde</td>\n",
       "      <td>med</td>\n",
       "      <td>1985</td>\n",
       "      <td>2657</td>\n",
       "    </tr>\n",
       "  </tbody>\n",
       "</table>\n",
       "</div>"
      ],
      "text/plain": [
       "                   label norm_value_tercile     n  ntot\n",
       "0              Bin Brook               high   993  2665\n",
       "1              Bin Brook                low    19  2665\n",
       "2              Bin Brook                med  1653  2665\n",
       "3   Cambridge Baits Bite               high  2285  2653\n",
       "4   Cambridge Baits Bite                low     4  2653\n",
       "5   Cambridge Baits Bite                med   364  2653\n",
       "6   Cambridge Jesus Lock               high  1906  2651\n",
       "7   Cambridge Jesus Lock                low    14  2651\n",
       "8   Cambridge Jesus Lock                med   731  2651\n",
       "9               Dernford               high    69  2617\n",
       "10              Dernford                low  2469  2617\n",
       "11              Dernford                med    79  2617\n",
       "12             Cambridge                low  2132  2645\n",
       "13             Cambridge                med   513  2645\n",
       "14      Weston Bampfylde                low   672  2657\n",
       "15      Weston Bampfylde                med  1985  2657"
      ]
     },
     "execution_count": 7,
     "metadata": {},
     "output_type": "execute_result"
    }
   ],
   "source": [
    "f_val = flood[\"norm_value\"]\n",
    "flood = flood[~pd.isnull(f_val)]\n",
    "low_f =flood.loc[f_val<=tercile1].groupby(['label']).apply(len)\n",
    "low_f = pd.DataFrame({'label':low_f.index,'norm_value_tercile':'low','n':low_f.values})   \n",
    "\n",
    "med_f =flood.loc[f_val<=tercile2].loc[f_val>tercile1].groupby(['label']).apply(len)\n",
    "med_f = pd.DataFrame({'label':med_f.index,'norm_value_tercile':'med','n':med_f.values})  \n",
    "\n",
    "high_f =flood.loc[f_val>tercile2].groupby(['label']).apply(len)\n",
    "high_f = pd.DataFrame({'label':high_f.index,'norm_value_tercile':'high','n':high_f.values})\n",
    "\n",
    "total_f =flood.groupby(['label']).apply(len)\n",
    "total_f = pd.DataFrame({'label':total_f.index,'ntot':total_f.values})   \n",
    "\n",
    "stats = pd.concat([high_f,low_f,med_f,])\n",
    "stats = stats.merge(total_f,on = 'label')\n",
    "\n",
    "stats = stats[['label','norm_value_tercile','n','ntot']]\n",
    "stats "
   ]
  },
  {
   "cell_type": "code",
   "execution_count": 8,
   "metadata": {},
   "outputs": [
    {
     "name": "stdout",
     "output_type": "stream",
     "text": [
      "Correct!\n"
     ]
    },
    {
     "data": {
      "text/plain": [
       "(True,\n",
       " [{'label': 'Bin Brook', 'n': 19, 'norm_value_tercile': 'low', 'ntot': 2665},\n",
       "  {'label': 'Bin Brook', 'n': 1653, 'norm_value_tercile': 'med', 'ntot': 2665},\n",
       "  {'label': 'Bin Brook', 'n': 993, 'norm_value_tercile': 'high', 'ntot': 2665},\n",
       "  {'label': 'Cambridge', 'n': 2132, 'norm_value_tercile': 'low', 'ntot': 2645},\n",
       "  {'label': 'Cambridge', 'n': 513, 'norm_value_tercile': 'med', 'ntot': 2645},\n",
       "  {'label': 'Cambridge Baits Bite',\n",
       "   'n': 4,\n",
       "   'norm_value_tercile': 'low',\n",
       "   'ntot': 2653},\n",
       "  {'label': 'Cambridge Baits Bite',\n",
       "   'n': 364,\n",
       "   'norm_value_tercile': 'med',\n",
       "   'ntot': 2653},\n",
       "  {'label': 'Cambridge Baits Bite',\n",
       "   'n': 2285,\n",
       "   'norm_value_tercile': 'high',\n",
       "   'ntot': 2653},\n",
       "  {'label': 'Cambridge Jesus Lock',\n",
       "   'n': 14,\n",
       "   'norm_value_tercile': 'low',\n",
       "   'ntot': 2651},\n",
       "  {'label': 'Cambridge Jesus Lock',\n",
       "   'n': 731,\n",
       "   'norm_value_tercile': 'med',\n",
       "   'ntot': 2651},\n",
       "  {'label': 'Cambridge Jesus Lock',\n",
       "   'n': 1906,\n",
       "   'norm_value_tercile': 'high',\n",
       "   'ntot': 2651},\n",
       "  {'label': 'Dernford', 'n': 2469, 'norm_value_tercile': 'low', 'ntot': 2617},\n",
       "  {'label': 'Dernford', 'n': 79, 'norm_value_tercile': 'med', 'ntot': 2617},\n",
       "  {'label': 'Dernford', 'n': 69, 'norm_value_tercile': 'high', 'ntot': 2617},\n",
       "  {'label': 'Weston Bampfylde',\n",
       "   'n': 672,\n",
       "   'norm_value_tercile': 'low',\n",
       "   'ntot': 2657},\n",
       "  {'label': 'Weston Bampfylde',\n",
       "   'n': 1985,\n",
       "   'norm_value_tercile': 'med',\n",
       "   'ntot': 2657}])"
      ]
     },
     "execution_count": 8,
     "metadata": {},
     "output_type": "execute_result"
    }
   ],
   "source": [
    "assert np.array_equal(stats.columns, ['label','norm_value_tercile','n','ntot']), 'columns are wrong'\n",
    "GRADER.submit_answer(GRADER.fetch_question('q5'), stats)"
   ]
  },
  {
   "cell_type": "markdown",
   "metadata": {
    "collapsed": true
   },
   "source": [
    "**Question 6**"
   ]
  },
  {
   "cell_type": "code",
   "execution_count": 9,
   "metadata": {},
   "outputs": [
    {
     "data": {
      "text/html": [
       "<div>\n",
       "<style>\n",
       "    .dataframe thead tr:only-child th {\n",
       "        text-align: right;\n",
       "    }\n",
       "\n",
       "    .dataframe thead th {\n",
       "        text-align: left;\n",
       "    }\n",
       "\n",
       "    .dataframe tbody tr th {\n",
       "        vertical-align: top;\n",
       "    }\n",
       "</style>\n",
       "<table border=\"1\" class=\"dataframe\">\n",
       "  <thead>\n",
       "    <tr style=\"text-align: right;\">\n",
       "      <th></th>\n",
       "      <th>label</th>\n",
       "      <th>low</th>\n",
       "      <th>med</th>\n",
       "      <th>high</th>\n",
       "    </tr>\n",
       "  </thead>\n",
       "  <tbody>\n",
       "    <tr>\n",
       "      <th>0</th>\n",
       "      <td>Bin Brook</td>\n",
       "      <td>0.007129</td>\n",
       "      <td>0.620263</td>\n",
       "      <td>0.372608</td>\n",
       "    </tr>\n",
       "    <tr>\n",
       "      <th>1</th>\n",
       "      <td>Cambridge</td>\n",
       "      <td>0.806049</td>\n",
       "      <td>0.193951</td>\n",
       "      <td>0.000000</td>\n",
       "    </tr>\n",
       "    <tr>\n",
       "      <th>2</th>\n",
       "      <td>Cambridge Baits Bite</td>\n",
       "      <td>0.001508</td>\n",
       "      <td>0.137203</td>\n",
       "      <td>0.861289</td>\n",
       "    </tr>\n",
       "    <tr>\n",
       "      <th>3</th>\n",
       "      <td>Cambridge Jesus Lock</td>\n",
       "      <td>0.005281</td>\n",
       "      <td>0.275745</td>\n",
       "      <td>0.718974</td>\n",
       "    </tr>\n",
       "    <tr>\n",
       "      <th>4</th>\n",
       "      <td>Dernford</td>\n",
       "      <td>0.943447</td>\n",
       "      <td>0.030187</td>\n",
       "      <td>0.026366</td>\n",
       "    </tr>\n",
       "    <tr>\n",
       "      <th>5</th>\n",
       "      <td>Weston Bampfylde</td>\n",
       "      <td>0.252917</td>\n",
       "      <td>0.747083</td>\n",
       "      <td>0.000000</td>\n",
       "    </tr>\n",
       "  </tbody>\n",
       "</table>\n",
       "</div>"
      ],
      "text/plain": [
       "                  label       low       med      high\n",
       "0             Bin Brook  0.007129  0.620263  0.372608\n",
       "1             Cambridge  0.806049  0.193951  0.000000\n",
       "2  Cambridge Baits Bite  0.001508  0.137203  0.861289\n",
       "3  Cambridge Jesus Lock  0.005281  0.275745  0.718974\n",
       "4              Dernford  0.943447  0.030187  0.026366\n",
       "5      Weston Bampfylde  0.252917  0.747083  0.000000"
      ]
     },
     "execution_count": 9,
     "metadata": {},
     "output_type": "execute_result"
    }
   ],
   "source": [
    "stats2 = stats.copy(deep=True)\n",
    "stats2[\"n\"] = stats2[\"n\"]/stats2[\"ntot\"]\n",
    "stats2 = stats2.groupby(['label', 'norm_value_tercile']).apply(lambda x: np.squeeze(x.values)[2])\n",
    "stats2 = stats2.unstack(fill_value=0)\n",
    "stats2 = pd.DataFrame({'label':stats2.index, 'high':stats2.values[:,0],'low':stats2.values[:,1],'med':stats2.values[:,2]})\n",
    "stats2 = stats2[['label','low','med','high']]\n",
    "stats2"
   ]
  },
  {
   "cell_type": "code",
   "execution_count": 10,
   "metadata": {},
   "outputs": [
    {
     "name": "stdout",
     "output_type": "stream",
     "text": [
      "Correct!\n"
     ]
    },
    {
     "data": {
      "text/plain": [
       "(True,\n",
       " [{'high': 0.3726078799249531,\n",
       "   'label': 'Bin Brook',\n",
       "   'low': 0.007129455909943715,\n",
       "   'med': 0.6202626641651032},\n",
       "  {'high': 0.0,\n",
       "   'label': 'Cambridge',\n",
       "   'low': 0.8060491493383742,\n",
       "   'med': 0.1939508506616257},\n",
       "  {'high': 0.8612891066716925,\n",
       "   'label': 'Cambridge Baits Bite',\n",
       "   'low': 0.0015077271013946476,\n",
       "   'med': 0.13720316622691292},\n",
       "  {'high': 0.7189739720860053,\n",
       "   'label': 'Cambridge Jesus Lock',\n",
       "   'low': 0.005281026027913994,\n",
       "   'med': 0.2757450018860807},\n",
       "  {'high': 0.026366068016813144,\n",
       "   'label': 'Dernford',\n",
       "   'low': 0.9434466946885747,\n",
       "   'med': 0.030187237294612153},\n",
       "  {'high': 0.0,\n",
       "   'label': 'Weston Bampfylde',\n",
       "   'low': 0.2529168234851336,\n",
       "   'med': 0.7470831765148664}])"
      ]
     },
     "execution_count": 10,
     "metadata": {},
     "output_type": "execute_result"
    }
   ],
   "source": [
    "# Submit your answer:\n",
    "assert np.array_equal(stats2.columns, ['label','low','med','high']), 'columns are wrong'\n",
    "GRADER.submit_answer(GRADER.fetch_question('q6'), stats2)"
   ]
  },
  {
   "cell_type": "markdown",
   "metadata": {},
   "source": [
    "**Question 7:**"
   ]
  },
  {
   "cell_type": "code",
   "execution_count": 11,
   "metadata": {},
   "outputs": [
    {
     "data": {
      "text/html": [
       "<div>\n",
       "<style>\n",
       "    .dataframe thead tr:only-child th {\n",
       "        text-align: right;\n",
       "    }\n",
       "\n",
       "    .dataframe thead th {\n",
       "        text-align: left;\n",
       "    }\n",
       "\n",
       "    .dataframe tbody tr th {\n",
       "        vertical-align: top;\n",
       "    }\n",
       "</style>\n",
       "<table border=\"1\" class=\"dataframe\">\n",
       "  <thead>\n",
       "    <tr style=\"text-align: right;\">\n",
       "      <th></th>\n",
       "      <th>label</th>\n",
       "      <th>ref</th>\n",
       "      <th>val</th>\n",
       "    </tr>\n",
       "  </thead>\n",
       "  <tbody>\n",
       "    <tr>\n",
       "      <th>0</th>\n",
       "      <td>Bin Brook</td>\n",
       "      <td>low</td>\n",
       "      <td>0.057</td>\n",
       "    </tr>\n",
       "    <tr>\n",
       "      <th>1</th>\n",
       "      <td>Cambridge</td>\n",
       "      <td>low</td>\n",
       "      <td>0.141</td>\n",
       "    </tr>\n",
       "    <tr>\n",
       "      <th>2</th>\n",
       "      <td>Cambridge Baits Bite</td>\n",
       "      <td>low</td>\n",
       "      <td>0.218</td>\n",
       "    </tr>\n",
       "    <tr>\n",
       "      <th>3</th>\n",
       "      <td>Cambridge Jesus Lock</td>\n",
       "      <td>low</td>\n",
       "      <td>0.637</td>\n",
       "    </tr>\n",
       "    <tr>\n",
       "      <th>4</th>\n",
       "      <td>Dernford</td>\n",
       "      <td>low</td>\n",
       "      <td>0.127</td>\n",
       "    </tr>\n",
       "    <tr>\n",
       "      <th>5</th>\n",
       "      <td>Weston Bampfylde</td>\n",
       "      <td>low</td>\n",
       "      <td>0.026</td>\n",
       "    </tr>\n",
       "    <tr>\n",
       "      <th>0</th>\n",
       "      <td>Bin Brook</td>\n",
       "      <td>high</td>\n",
       "      <td>0.368</td>\n",
       "    </tr>\n",
       "    <tr>\n",
       "      <th>1</th>\n",
       "      <td>Cambridge</td>\n",
       "      <td>high</td>\n",
       "      <td>1.250</td>\n",
       "    </tr>\n",
       "    <tr>\n",
       "      <th>2</th>\n",
       "      <td>Cambridge Baits Bite</td>\n",
       "      <td>high</td>\n",
       "      <td>0.294</td>\n",
       "    </tr>\n",
       "    <tr>\n",
       "      <th>3</th>\n",
       "      <td>Cambridge Jesus Lock</td>\n",
       "      <td>high</td>\n",
       "      <td>0.740</td>\n",
       "    </tr>\n",
       "    <tr>\n",
       "      <th>4</th>\n",
       "      <td>Dernford</td>\n",
       "      <td>high</td>\n",
       "      <td>0.395</td>\n",
       "    </tr>\n",
       "    <tr>\n",
       "      <th>5</th>\n",
       "      <td>Weston Bampfylde</td>\n",
       "      <td>high</td>\n",
       "      <td>0.600</td>\n",
       "    </tr>\n",
       "  </tbody>\n",
       "</table>\n",
       "</div>"
      ],
      "text/plain": [
       "                  label   ref    val\n",
       "0             Bin Brook   low  0.057\n",
       "1             Cambridge   low  0.141\n",
       "2  Cambridge Baits Bite   low  0.218\n",
       "3  Cambridge Jesus Lock   low  0.637\n",
       "4              Dernford   low  0.127\n",
       "5      Weston Bampfylde   low  0.026\n",
       "0             Bin Brook  high  0.368\n",
       "1             Cambridge  high  1.250\n",
       "2  Cambridge Baits Bite  high  0.294\n",
       "3  Cambridge Jesus Lock  high  0.740\n",
       "4              Dernford  high  0.395\n",
       "5      Weston Bampfylde  high  0.600"
      ]
     },
     "execution_count": 11,
     "metadata": {},
     "output_type": "execute_result"
    }
   ],
   "source": [
    "low_min = flood[['label','low']].groupby(['label'])['low'].apply(min)\n",
    "low_min = pd.DataFrame({'label':low_min.index, 'ref': 'low', 'val': low_min.values})\n",
    "high_max = flood[['label','high']].groupby(['label'])['high'].apply(max)\n",
    "high_max = pd.DataFrame({'label':high_max.index, 'ref': 'high', 'val': high_max.values})\n",
    "flood_val = pd.concat([low_min, high_max])\n",
    "flood_val"
   ]
  },
  {
   "cell_type": "code",
   "execution_count": 12,
   "metadata": {},
   "outputs": [
    {
     "name": "stdout",
     "output_type": "stream",
     "text": [
      "Correct!\n"
     ]
    },
    {
     "data": {
      "text/plain": [
       "(True,\n",
       " [{'label': 'Bin Brook', 'ref': 'high', 'val': 0.368},\n",
       "  {'label': 'Bin Brook', 'ref': 'low', 'val': 0.057},\n",
       "  {'label': 'Cambridge', 'ref': 'high', 'val': 1.25},\n",
       "  {'label': 'Cambridge', 'ref': 'low', 'val': 0.141},\n",
       "  {'label': 'Cambridge Baits Bite', 'ref': 'high', 'val': 0.294},\n",
       "  {'label': 'Cambridge Baits Bite', 'ref': 'low', 'val': 0.218},\n",
       "  {'label': 'Cambridge Jesus Lock', 'ref': 'high', 'val': 0.74},\n",
       "  {'label': 'Cambridge Jesus Lock', 'ref': 'low', 'val': 0.637},\n",
       "  {'label': 'Dernford', 'ref': 'high', 'val': 0.395},\n",
       "  {'label': 'Dernford', 'ref': 'low', 'val': 0.127},\n",
       "  {'label': 'Weston Bampfylde', 'ref': 'high', 'val': 0.6},\n",
       "  {'label': 'Weston Bampfylde', 'ref': 'low', 'val': 0.026000000000000002}])"
      ]
     },
     "execution_count": 12,
     "metadata": {},
     "output_type": "execute_result"
    }
   ],
   "source": [
    "GRADER.submit_answer(GRADER.fetch_question('q7'), flood_val)"
   ]
  },
  {
   "cell_type": "markdown",
   "metadata": {},
   "source": [
    "### **Assignment 3b**"
   ]
  },
  {
   "cell_type": "markdown",
   "metadata": {
    "collapsed": true
   },
   "source": [
    "**Question 8:**"
   ]
  },
  {
   "cell_type": "code",
   "execution_count": 13,
   "metadata": {},
   "outputs": [
    {
     "data": {
      "image/png": "[encoded data removed]",
      "text/plain": [
       "<matplotlib.figure.Figure at 0x7f5e4339d160>"
      ]
     },
     "metadata": {},
     "output_type": "display_data"
    }
   ],
   "source": [
    "with plt.rc_context({'figure.figsize': (9,3.25)}):\n",
    "    ax = plt.gca()\n",
    "    ax.yaxis.grid(True)\n",
    "    N = len(stats2[\"low\"])\n",
    "    ax.set_xlim(-1,N+1)\n",
    "    indices = np.arange(N)\n",
    "    p1 = plt.bar(indices, stats2[\"low\"],color='#117A65',zorder=3)\n",
    "    p2 = plt.bar(indices, stats2[\"med\"],bottom=stats2[\"low\"],\n",
    "                 color='#63AB62',zorder=3)\n",
    "    p3 = plt.bar(indices, stats2[\"high\"],bottom=\n",
    "                 (stats2[\"med\"]+stats2[\"low\"]),color='#b8dc6f',zorder=3)   \n",
    "plt.title('Fraction of observations \\n in each tercile')\n",
    "plt.xticks(indices, stats2[\"label\"],rotation=-30, ha='left')\n",
    "\n",
    "plt.legend((p1[0], p2[0],p3[0]), ('low', 'med','high'))\n",
    "plt.show()"
   ]
  },
  {
   "cell_type": "markdown",
   "metadata": {},
   "source": [
    "**Question 9:**"
   ]
  },
  {
   "cell_type": "code",
   "execution_count": 14,
   "metadata": {},
   "outputs": [
    {
     "data": {
      "image/png": "[encoded data removed]",
      "text/plain": [
       "<matplotlib.figure.Figure at 0x7f5e4339d128>"
      ]
     },
     "metadata": {},
     "output_type": "display_data"
    }
   ],
   "source": [
    "# Create a column with datetime objects\n",
    "import datetime, pytz\n",
    "def as_datetime(s): \n",
    "    return datetime.datetime.strptime(s, '%Y-%m-%dT%H:%M:%SZ').replace(tzinfo=pytz.UTC)\n",
    "flood = flood.iloc[np.argsort(flood['t'])]\n",
    "flood['datetime'] = np.vectorize(as_datetime)(flood['t'])\n",
    "station_names = [\"Bin Brook\",\"Cambridge\",\"Cambridge Baits Bite\",\"Cambridge Jesus Lock\",\"Dernford\",\"Weston Bampfylde\"]\n",
    "with plt.rc_context({'figure.figsize': (12,5)}):\n",
    "    fig = plt.figure()\n",
    "    for i in range(len(station_names)):\n",
    "        data = flood.loc[flood[\"label\"]==station_names[i],[\"value\",\"datetime\",'low','high']].reset_index(drop=True)\n",
    "        low = min(data[\"low\"])\n",
    "        high = max(data[\"high\"])\n",
    "        itrange_bottom = low+tercile1*(high-low)\n",
    "        itrange_top = low+tercile2*(high-low)\n",
    "        ax = fig.add_subplot(2, 3, i+1)\n",
    "        ax.plot(data[\"datetime\"],data[\"value\"])\n",
    "        ax.axhspan(low, high, facecolor='0.5', alpha=0.1)\n",
    "        ax.axhspan(itrange_bottom, itrange_top, facecolor='0.5', alpha=0.3)\n",
    "        # Date-axis control, taken from http://matplotlib.org/examples/api/date_demo.html\n",
    "        # Given a matplotlib axis, print out date labels nicely\n",
    "        ax.xaxis.set_major_locator(matplotlib.dates.WeekdayLocator(byweekday=matplotlib.dates.MO, tz=pytz.UTC))\n",
    "        ax.xaxis.set_minor_locator(matplotlib.dates.DayLocator(tz=pytz.UTC))\n",
    "        ax.xaxis.set_major_formatter(matplotlib.dates.DateFormatter('%a %d %b'))\n",
    "        plt.title(station_names[i])\n",
    "        if i < 3: ax.set_xticklabels([])\n",
    "fig.autofmt_xdate(bottom=0.2, rotation=-30, ha='left')\n",
    "fig.suptitle('Water levels')\n",
    "plt.show()   "
   ]
  }
 ],
 "metadata": {
  "kernelspec": {
   "display_name": "Python 3",
   "language": "python",
   "name": "python3"
  },
  "language_info": {
   "codemirror_mode": {
    "name": "ipython",
    "version": 3
   },
   "file_extension": ".py",
   "mimetype": "text/x-python",
   "name": "python",
   "nbconvert_exporter": "python",
   "pygments_lexer": "ipython3",
   "version": "3.6.1"
  }
 },
 "nbformat": 4,
 "nbformat_minor": 2
}
