{
 "cells": [
  {
   "cell_type": "markdown",
   "metadata": {
    "collapsed": true
   },
   "source": [
    "# Answers to Assignment 2"
   ]
  },
  {
   "cell_type": "markdown",
   "metadata": {},
   "source": [
    "### **Assignment 2a**"
   ]
  },
  {
   "cell_type": "code",
   "execution_count": 1,
   "metadata": {},
   "outputs": [
    {
     "name": "stdout",
     "output_type": "stream",
     "text": [
      "Waiting for you to log in .... done.\n"
     ]
    }
   ],
   "source": [
    "!pip install ucamcl --upgrade\n",
    "import ucamcl\n",
    "GRADER = ucamcl.autograder('https://markmy.solutions', course='scicomp', section='assignment2a')"
   ]
  },
  {
   "cell_type": "code",
   "execution_count": 2,
   "metadata": {
    "collapsed": true
   },
   "outputs": [],
   "source": [
    "import math, random\n",
    "import numpy as np\n",
    "import matplotlib.pyplot as plt\n",
    "import scipy\n",
    "import scipy.optimize\n",
    "# The next line is a piece of magic, to let plots appear in our Jupyter notebooks\n",
    "%matplotlib inline    "
   ]
  },
  {
   "cell_type": "markdown",
   "metadata": {},
   "source": [
    "**Question 1:**"
   ]
  },
  {
   "cell_type": "code",
   "execution_count": 3,
   "metadata": {
    "collapsed": true
   },
   "outputs": [],
   "source": [
    "def pairs(N):\n",
    "    m = np.random.permutation(N)\n",
    "    m1 = m[:(N)//2]\n",
    "    m2 = m[(N)//2:]\n",
    "    return m1,m2\n"
   ]
  },
  {
   "cell_type": "code",
   "execution_count": 4,
   "metadata": {},
   "outputs": [
    {
     "name": "stdout",
     "output_type": "stream",
     "text": [
      "Correct!\n"
     ]
    },
    {
     "data": {
      "text/plain": [
       "(True, {'n': 15156, 's': 3570.879595065712})"
      ]
     },
     "execution_count": 4,
     "metadata": {},
     "output_type": "execute_result"
    }
   ],
   "source": [
    "q = GRADER.fetch_question('q1')\n",
    "m1,m2 = pairs(q.n)\n",
    "ans = {'n': len(np.unique(np.concatenate([m1,m2]))), 's': np.std(np.abs(m1-m2))}\n",
    "GRADER.submit_answer(q, ans)"
   ]
  },
  {
   "cell_type": "markdown",
   "metadata": {},
   "source": [
    "**Question 2:**"
   ]
  },
  {
   "cell_type": "code",
   "execution_count": 5,
   "metadata": {
    "collapsed": true
   },
   "outputs": [],
   "source": [
    "def kinetic_exchange(v,w):\n",
    "    sum = v+w\n",
    "    R = np.random.random(len(v))\n",
    "    vNew = R*sum\n",
    "    wNew = (1-R)*sum\n",
    "    return vNew,wNew"
   ]
  },
  {
   "cell_type": "code",
   "execution_count": 6,
   "metadata": {},
   "outputs": [
    {
     "name": "stdout",
     "output_type": "stream",
     "text": [
      "Correct!\n"
     ]
    },
    {
     "data": {
      "text/plain": [
       "(True, {'m1': 2.257830325990888, 's2': 1.5502422751367446})"
      ]
     },
     "execution_count": 6,
     "metadata": {},
     "output_type": "execute_result"
    }
   ],
   "source": [
    "q = GRADER.fetch_question('q2')\n",
    "v,w = np.linspace(1,5,q.n), np.linspace(1,2,q.n)**q.p\n",
    "vnew,wnew = kinetic_exchange(v,w)\n",
    "ans = {'m1': np.mean(vnew), 's2': np.std(wnew)}\n",
    "GRADER.submit_answer(q, ans)"
   ]
  },
  {
   "cell_type": "markdown",
   "metadata": {},
   "source": [
    "**Question 3:**"
   ]
  },
  {
   "cell_type": "code",
   "execution_count": 7,
   "metadata": {
    "collapsed": true
   },
   "outputs": [],
   "source": [
    "def gini(w):\n",
    "    N = len(w)\n",
    "    w = sorted(w)\n",
    "    num = np.sum((np.arange(N)+1)*w)\n",
    "    den = N*np.sum(w)\n",
    "    G = (2*num/den) - (1 + 1/N)\n",
    "    return G"
   ]
  },
  {
   "cell_type": "code",
   "execution_count": 8,
   "metadata": {},
   "outputs": [
    {
     "name": "stdout",
     "output_type": "stream",
     "text": [
      "Correct!\n"
     ]
    },
    {
     "data": {
      "text/plain": [
       "(True, {'g': 0.3317255817998088})"
      ]
     },
     "execution_count": 8,
     "metadata": {},
     "output_type": "execute_result"
    }
   ],
   "source": [
    "q = GRADER.fetch_question('q3')\n",
    "w = np.linspace(0,1,q.n)**q.p\n",
    "g = gini(w)\n",
    "GRADER.submit_answer(q, {'g': g})"
   ]
  },
  {
   "cell_type": "markdown",
   "metadata": {},
   "source": [
    "**Question 4:**"
   ]
  },
  {
   "cell_type": "code",
   "execution_count": 9,
   "metadata": {
    "collapsed": true
   },
   "outputs": [],
   "source": [
    "def sim(N,T):\n",
    "    pop = np.ones(N)\n",
    "    gs = []\n",
    "    for _ in range(T):\n",
    "        m1,m2 = pairs(N)\n",
    "        v = pop[m1]\n",
    "        w = pop[m2]\n",
    "        vNew,wNew = kinetic_exchange(v,w)\n",
    "        newpop = np.zeros_like(pop)\n",
    "        newpop[m1] = vNew\n",
    "        newpop[m2] = wNew\n",
    "        pop = newpop\n",
    "        gs.append(gini(pop))\n",
    "    return pop, gs"
   ]
  },
  {
   "cell_type": "code",
   "execution_count": 10,
   "metadata": {},
   "outputs": [
    {
     "name": "stdout",
     "output_type": "stream",
     "text": [
      "Correct!\n"
     ]
    },
    {
     "data": {
      "text/plain": [
       "(True,\n",
       " {'gm': 0.49463902304919266,\n",
       "  'gs': 0.004187317507183,\n",
       "  'ws': 0.9955255691930713})"
      ]
     },
     "execution_count": 10,
     "metadata": {},
     "output_type": "execute_result"
    }
   ],
   "source": [
    "q = GRADER.fetch_question('q4')\n",
    "w,gs = sim(q.n, q.t)\n",
    "ans = {'gm': np.mean(gs[int(q.t/2):]), 'gs': np.std(gs[int(q.t/2):]), 'ws': np.std(w)}\n",
    "GRADER.submit_answer(q, ans)"
   ]
  },
  {
   "cell_type": "markdown",
   "metadata": {},
   "source": [
    "**Question 5:**"
   ]
  },
  {
   "cell_type": "code",
   "execution_count": 11,
   "metadata": {},
   "outputs": [
    {
     "data": {
      "image/png": "[encoded data removed]",
      "text/plain": [
       "<matplotlib.figure.Figure at 0x7f7b0652ac50>"
      ]
     },
     "metadata": {},
     "output_type": "display_data"
    }
   ],
   "source": [
    "_,gs = sim(500000,30)\n",
    "tstep = np.arange(30)\n",
    "plt.plot(tstep, gs)\n",
    "plt.xlabel('timestep')\n",
    "plt.title('Gini coefficient')\n",
    "plt.show()"
   ]
  },
  {
   "cell_type": "markdown",
   "metadata": {},
   "source": [
    "### **Assignment 2b**"
   ]
  },
  {
   "cell_type": "code",
   "execution_count": 12,
   "metadata": {},
   "outputs": [
    {
     "name": "stdout",
     "output_type": "stream",
     "text": [
      "Waiting for you to log in .. done.\n"
     ]
    }
   ],
   "source": [
    "GRADER = ucamcl.autograder('https://markmy.solutions', course='scicomp', section='assignment2b')"
   ]
  },
  {
   "cell_type": "markdown",
   "metadata": {},
   "source": [
    "**Question 6:**"
   ]
  },
  {
   "cell_type": "code",
   "execution_count": 13,
   "metadata": {},
   "outputs": [
    {
     "name": "stdout",
     "output_type": "stream",
     "text": [
      "Correct!\n"
     ]
    },
    {
     "data": {
      "text/plain": [
       "(True, 0.48)"
      ]
     },
     "execution_count": 13,
     "metadata": {},
     "output_type": "execute_result"
    }
   ],
   "source": [
    "q = GRADER.fetch_question('q6')\n",
    "ans = 1 - (1/5) - ((2/5)*(1/5)+(3/5)*(2/5))\n",
    "#P(move by > 1 quintile) = 1 - P(move by 0 quintiles) - P(move by 1 quintile)\n",
    "#P(move by 0 quintiles) = 1/5 \n",
    "#P(move by 1 quintile) = (2/5)*(1/5) {if initially in end quintiles (2 out of 5) - only 1 out of 5 quartiles to move to}  \n",
    "                        #+ (3/5)*(2/5) {if in middle quartiles (3 out of 5) since 2 possible quartiles out of 5 to move to}\n",
    "GRADER.submit_answer(q, ans)"
   ]
  },
  {
   "cell_type": "markdown",
   "metadata": {},
   "source": [
    "**Question 7:**"
   ]
  },
  {
   "cell_type": "code",
   "execution_count": 14,
   "metadata": {
    "collapsed": true
   },
   "outputs": [],
   "source": [
    "def mobility(v,w):\n",
    "    def quintile(x):\n",
    "        quintiles = []\n",
    "        for i in range(1,6):\n",
    "            quintiles.append(np.percentile(x,20*i))\n",
    "        return np.digitize(x,quintiles)\n",
    "    quintchange = np.abs(quintile(v)-quintile(w))\n",
    "    proportion = np.mean(quintchange>1)\n",
    "    return proportion\n",
    "    "
   ]
  },
  {
   "cell_type": "code",
   "execution_count": 15,
   "metadata": {},
   "outputs": [
    {
     "name": "stdout",
     "output_type": "stream",
     "text": [
      "Correct!\n"
     ]
    },
    {
     "data": {
      "text/plain": [
       "(True, 0.16059050064184852)"
      ]
     },
     "execution_count": 15,
     "metadata": {},
     "output_type": "execute_result"
    }
   ],
   "source": [
    "# Submitting your answer:\n",
    "q = GRADER.fetch_question('q7')\n",
    "v,w = np.arange(q.n)**q.a, np.arange(q.n)**q.a * np.random.random(q.n)\n",
    "GRADER.submit_answer(q, mobility(v,w))"
   ]
  },
  {
   "cell_type": "markdown",
   "metadata": {},
   "source": [
    "**Question 8:**"
   ]
  },
  {
   "cell_type": "code",
   "execution_count": 22,
   "metadata": {
    "collapsed": true
   },
   "outputs": [],
   "source": [
    "def simUntilStable(N):\n",
    "    pop = np.ones(N)\n",
    "    currentGS = 0\n",
    "\n",
    "    gs = []\n",
    "    while(True):\n",
    "        m1,m2 = pairs(N)\n",
    "        v = pop[m1]\n",
    "        w = pop[m2]\n",
    "        vNew,wNew = kinetic_exchange(v,w)\n",
    "        newpop = np.zeros_like(pop)\n",
    "        newpop[m1] = vNew\n",
    "        newpop[m2] = wNew\n",
    "        pop = newpop\n",
    "        gs.append(gini(pop))\n",
    "        if len(gs)>=2 and (abs(gs[-1]-gs[-2])<1e-2): #stable if Gini coefficient doesn't vary much\n",
    "            break\n",
    "    return pop\n",
    "\n",
    "def simFurther(N,T,initpop):\n",
    "    pop = initpop\n",
    "    for _ in range(T):\n",
    "        m1,m2 = pairs(N)\n",
    "        v = pop[m1]\n",
    "        w = pop[m2]\n",
    "        vNew,wNew = kinetic_exchange(v,w)\n",
    "        newpop = np.zeros_like(pop)\n",
    "        newpop[m1] = vNew\n",
    "        newpop[m2] = wNew\n",
    "        pop = newpop\n",
    "    return pop"
   ]
  },
  {
   "cell_type": "code",
   "execution_count": 23,
   "metadata": {},
   "outputs": [
    {
     "name": "stdout",
     "output_type": "stream",
     "text": [
      "Correct!\n"
     ]
    },
    {
     "data": {
      "text/plain": [
       "(True, 0.47964249999999997)"
      ]
     },
     "execution_count": 23,
     "metadata": {},
     "output_type": "execute_result"
    }
   ],
   "source": [
    "q = GRADER.fetch_question('q8')\n",
    "# For a population size q.n, measure mobility over q.t timesteps\n",
    "w0 = simUntilStable(q.n)\n",
    "v = simFurther(q.n,q.t,w0)\n",
    "ans = mobility(v,w0)\n",
    "GRADER.submit_answer(q, ans)"
   ]
  },
  {
   "cell_type": "markdown",
   "metadata": {},
   "source": [
    "**Question 9:**"
   ]
  },
  {
   "cell_type": "code",
   "execution_count": 24,
   "metadata": {
    "collapsed": true
   },
   "outputs": [],
   "source": [
    "def simQuintile(N,T):\n",
    "    pop = np.ones(N)\n",
    "    ems = []\n",
    "    for i in range(T):\n",
    "        m1,m2 = pairs(N)\n",
    "        v = pop[m1]\n",
    "        w = pop[m2]\n",
    "        vNew,wNew = kinetic_exchange(v,w)\n",
    "        newpop = np.zeros_like(pop)\n",
    "        newpop[m1] = vNew\n",
    "        newpop[m2] = wNew\n",
    "        pop = newpop\n",
    "        if i==0:\n",
    "            initpop=pop\n",
    "        ems.append(mobility(pop,initpop))\n",
    "    return ems"
   ]
  },
  {
   "cell_type": "code",
   "execution_count": 25,
   "metadata": {},
   "outputs": [
    {
     "data": {
      "image/png": "[encoded data removed]",
      "text/plain": [
       "<matplotlib.figure.Figure at 0x7f7b06590668>"
      ]
     },
     "metadata": {},
     "output_type": "display_data"
    }
   ],
   "source": [
    "ems = simQuintile(500000,30)\n",
    "tstep = np.arange(len(ems))\n",
    "plt.plot(tstep, ems)\n",
    "plt.xlabel('timestep')\n",
    "plt.title('Fraction who move by more than one quintile')\n",
    "plt.show()"
   ]
  },
  {
   "cell_type": "code",
   "execution_count": null,
   "metadata": {
    "collapsed": true
   },
   "outputs": [],
   "source": []
  }
 ],
 "metadata": {
  "kernelspec": {
   "display_name": "Python 3",
   "language": "python",
   "name": "python3"
  },
  "language_info": {
   "codemirror_mode": {
    "name": "ipython",
    "version": 3
   },
   "file_extension": ".py",
   "mimetype": "text/x-python",
   "name": "python",
   "nbconvert_exporter": "python",
   "pygments_lexer": "ipython3",
   "version": "3.6.1"
  }
 },
 "nbformat": 4,
 "nbformat_minor": 2
}
